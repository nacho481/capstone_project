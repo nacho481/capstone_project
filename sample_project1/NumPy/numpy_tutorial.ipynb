{
 "cells": [
  {
   "cell_type": "code",
   "execution_count": 2,
   "id": "75e0f5dd-323d-43b2-b5a5-d30b87d2eaef",
   "metadata": {},
   "outputs": [],
   "source": [
    "import numpy as np "
   ]
  },
  {
   "cell_type": "code",
   "execution_count": 3,
   "id": "f05e9887-9752-494f-b4a4-276cd11bf650",
   "metadata": {},
   "outputs": [
    {
     "name": "stdout",
     "output_type": "stream",
     "text": [
      "add_arrays_loop()\n",
      "\n",
      "a[i] + b[i] = 1 + 5 = 6\n",
      "a[i] + b[i] = 2 + 6 = 8\n",
      "a[i] + b[i] = 3 + 7 = 10\n",
      "a[i] + b[i] = 4 + 8 = 12\n",
      "\n",
      "\n",
      "add_arrays_vectorized function()\n",
      "\n",
      "a + b = [1 2 3 4] + [5 6 7 8] = [ 6  8 10 12]\n"
     ]
    }
   ],
   "source": [
    "# # Non-vectorized approach (slow)\n",
    "def add_arrays_loop(a, b):\n",
    "    print('add_arrays_loop()\\n')\n",
    "    result = np.empty_like(a)\n",
    "    for i in range(len(a)):\n",
    "        result[i] = a[i] + b[i]\n",
    "        print(f'a[i] + b[i] = {a[i]} + {b[i]} = {result[i]}')\n",
    "    return result\n",
    "\n",
    "# Vectorized approach (fast)\n",
    "def add_arrays_vectorized(a, b):\n",
    "    print('\\n\\nadd_arrays_vectorized function()\\n')\n",
    "    print(f'a + b = {a} + {b} = {a + b}')\n",
    "    return a + b\n",
    "\n",
    "# Usage\n",
    "a = np.array([1, 2, 3, 4])\n",
    "b = np.array([5, 6, 7, 8])\n",
    "\n",
    "result_non_vectorized = add_arrays_loop(a, b)\n",
    "result_vectorized = add_arrays_vectorized(a, b)"
   ]
  },
  {
   "cell_type": "markdown",
   "id": "f95f924b-b39e-4677-9407-330d3fb3ef84",
   "metadata": {},
   "source": [
    "<h2>Broadcasting in NumPy</h2>\n",
    "<p>a powerful mechanism that allows NumPy to work with arrays of different shapes when performing arithmetic operations. It automatically expands smaller arrays to match the shape of larger arrays without making copies of the data. This enables efficient operations between arrays of different sizes.</p>"
   ]
  },
  {
   "cell_type": "code",
   "execution_count": 4,
   "id": "aa3c1a60-a0a4-4bf8-acdf-bf2e2ee55359",
   "metadata": {},
   "outputs": [
    {
     "name": "stdout",
     "output_type": "stream",
     "text": [
      "a + b = [1 2 3 4] + [10] = [11 12 13 14]\n"
     ]
    }
   ],
   "source": [
    "a = np.array([1, 2, 3, 4])\n",
    "b = np.array([10])\n",
    "c = a + b  # b is broadcast to match a's shape\n",
    "# c becomes [11, 12, 13, 14]\n",
    "print(f'a + b = {a} + {b} = {c}')"
   ]
  },
  {
   "cell_type": "markdown",
   "id": "94d28730-c051-43b1-80fb-13a72cd220f1",
   "metadata": {},
   "source": [
    "<h2>ufun - universal functions</h2>\n",
    "<p>A ufunc is a function that operates element-wise on array inputs. These functions are vectorized and optimized for performance. NumPy provides many built-in ufuncs, and you can also create custom ones.</p>"
   ]
  },
  {
   "cell_type": "markdown",
   "id": "0d4bacde-c140-425e-8387-793f8ef872f9",
   "metadata": {},
   "source": [
    "<h2>Follow along</h2>\n",
    "<p>We will follow along now with the ZTM's introduction to AI course. Everything above was based on a conversation I had with Claude AI.</p>"
   ]
  },
  {
   "cell_type": "markdown",
   "id": "f087288e-b463-4fa1-b9c3-3ac370e7fd88",
   "metadata": {},
   "source": [
    "## Notes\n",
    "\n",
    "- **Main datatype:** The main datatype is ndarray\n",
    "- **ndarray (n-dimensional array):** n-dimensions indicate it can be any shape you can imagine and array's can be a list of numbers too.\n",
    "- **numpy.shape** can be shown as it is here\n",
    "\n",
    "![anatomy of a numpy array](anatomy-of-a-numpy-array.png)\n",
    "\n",
    "- **ndim:** stands for number of dimensions\n",
    "- **numpy.shape**\n",
    "  - 1 - dimension: (x,)\n",
    "  - 2 - dimension: (x,y)\n",
    "  - 3 - dimension: (x,y,z)\n",
    "  - It can go to n-dimensions depending on what kind of data you're working with\n",
    "- The number of dimensions are important to know b/c perhaps a machine-learning algorithm will find a pattern in the number of dimensions\n",
    "- Creating arrays.\n",
    "    - Type *variable = np.array([1, 2, 3])* or however you might populate a list within the parameter\n",
    "    - **variable = np.ones()** returns an array of ones\n",
    "    - **variable = np.zeros()** returns an array of 0's.\n",
    "    - **variable = np.arange(start, ends, step)** gives a range of values with a start and end. The step is how often the value will step for example .arange(0, 10, 2) would result in the following array [0, 2, 4, 6, 8]. \n",
    "    - **variable = np.random.random((x,y))** returns an array with random numbers having x rows and y columns.\n",
    "    - **random_array3** = np.random.randint(10, size=(5, 3))  # make vaulues 0 to 10\n",
    "    - You can plant the **seed** before creating random numbers; the seed is used to initialize the random number generator. Setting a specific seed ensures that the sequence of \"random\" numbers generated after that will always be the same.\n",
    " "
   ]
  },
  {
   "cell_type": "code",
   "execution_count": 5,
   "id": "44dec213-d871-43b5-a7a2-3eec78fdabc7",
   "metadata": {},
   "outputs": [
    {
     "data": {
      "text/plain": [
       "array([1, 2, 3])"
      ]
     },
     "execution_count": 5,
     "metadata": {},
     "output_type": "execute_result"
    }
   ],
   "source": [
    "# ndarray demo\n",
    "a1 = np.array([1, 2, 3])  # pass a list of numbers\n",
    "a1"
   ]
  },
  {
   "cell_type": "code",
   "execution_count": 6,
   "id": "6302c927-b631-457e-8eed-fc5c5c37182a",
   "metadata": {},
   "outputs": [
    {
     "data": {
      "text/plain": [
       "numpy.ndarray"
      ]
     },
     "execution_count": 6,
     "metadata": {},
     "output_type": "execute_result"
    }
   ],
   "source": [
    "type(a1)"
   ]
  },
  {
   "cell_type": "code",
   "execution_count": 7,
   "id": "097eca50-bcc1-4ddf-a5cf-22b0dd7fbbbf",
   "metadata": {},
   "outputs": [],
   "source": [
    "a2 = np.array([\n",
    "                [1, 2.0, 3.3], \n",
    "                [4, 5, 6.5]\n",
    "            ])\n",
    "\n",
    "a3 = np.array([[[1, 2, 3],\n",
    "                [4, 5, 6]],\n",
    "               [[7, 8, 9],\n",
    "                [10, 11, 12]],\n",
    "               [[13, 14, 15],\n",
    "                [16, 17, 18]]])"
   ]
  },
  {
   "cell_type": "code",
   "execution_count": 8,
   "id": "f32899fd-147d-4df9-b23a-91e390c8e82b",
   "metadata": {
    "scrolled": true
   },
   "outputs": [
    {
     "data": {
      "text/plain": [
       "array([[1. , 2. , 3.3],\n",
       "       [4. , 5. , 6.5]])"
      ]
     },
     "execution_count": 8,
     "metadata": {},
     "output_type": "execute_result"
    }
   ],
   "source": [
    "a2"
   ]
  },
  {
   "cell_type": "code",
   "execution_count": 9,
   "id": "567aadc8-3a84-4707-ae65-fbc4ba1b54a5",
   "metadata": {},
   "outputs": [
    {
     "data": {
      "text/plain": [
       "array([[[ 1,  2,  3],\n",
       "        [ 4,  5,  6]],\n",
       "\n",
       "       [[ 7,  8,  9],\n",
       "        [10, 11, 12]],\n",
       "\n",
       "       [[13, 14, 15],\n",
       "        [16, 17, 18]]])"
      ]
     },
     "execution_count": 9,
     "metadata": {},
     "output_type": "execute_result"
    }
   ],
   "source": [
    "a3"
   ]
  },
  {
   "cell_type": "code",
   "execution_count": 10,
   "id": "1bc8fd50-8558-42d4-b95b-801d6523c378",
   "metadata": {},
   "outputs": [
    {
     "data": {
      "text/plain": [
       "(3,)"
      ]
     },
     "execution_count": 10,
     "metadata": {},
     "output_type": "execute_result"
    }
   ],
   "source": [
    " a1.shape"
   ]
  },
  {
   "cell_type": "code",
   "execution_count": 11,
   "id": "68ca0be9-80c5-48fc-8dcc-2245fda62bea",
   "metadata": {},
   "outputs": [
    {
     "data": {
      "text/plain": [
       "(2, 3)"
      ]
     },
     "execution_count": 11,
     "metadata": {},
     "output_type": "execute_result"
    }
   ],
   "source": [
    "a2.shape"
   ]
  },
  {
   "cell_type": "code",
   "execution_count": 12,
   "id": "88e74fec-835f-48bf-9ca4-28d9acc9c14b",
   "metadata": {},
   "outputs": [
    {
     "data": {
      "text/plain": [
       "(3, 2, 3)"
      ]
     },
     "execution_count": 12,
     "metadata": {},
     "output_type": "execute_result"
    }
   ],
   "source": [
    "a3.shape"
   ]
  },
  {
   "cell_type": "code",
   "execution_count": 13,
   "id": "e96a4956-b647-4293-b7f7-9ff084465f98",
   "metadata": {},
   "outputs": [
    {
     "data": {
      "text/plain": [
       "(1, 2, 3)"
      ]
     },
     "execution_count": 13,
     "metadata": {},
     "output_type": "execute_result"
    }
   ],
   "source": [
    "a1.ndim, a2.ndim, a3.ndim"
   ]
  },
  {
   "cell_type": "code",
   "execution_count": 14,
   "id": "b368b754-de31-413f-b671-b47ada424f60",
   "metadata": {},
   "outputs": [
    {
     "data": {
      "text/plain": [
       "(dtype('int32'), dtype('float64'), dtype('int32'))"
      ]
     },
     "execution_count": 14,
     "metadata": {},
     "output_type": "execute_result"
    }
   ],
   "source": [
    "# a2 will convert the rest of the int's into floats\n",
    "a1.dtype, a2.dtype, a3.dtype"
   ]
  },
  {
   "cell_type": "code",
   "execution_count": 15,
   "id": "af7536e1-90e3-4fa1-830f-faf90e765d81",
   "metadata": {},
   "outputs": [
    {
     "data": {
      "text/plain": [
       "(3, 6, 18)"
      ]
     },
     "execution_count": 15,
     "metadata": {},
     "output_type": "execute_result"
    }
   ],
   "source": [
    "# Determine size\n",
    "a1.size, a2.size, a3.size"
   ]
  },
  {
   "cell_type": "code",
   "execution_count": 16,
   "id": "93bda7a5-56df-4d10-a37c-441e5b6df1ec",
   "metadata": {},
   "outputs": [
    {
     "data": {
      "text/plain": [
       "(numpy.ndarray, numpy.ndarray, numpy.ndarray)"
      ]
     },
     "execution_count": 16,
     "metadata": {},
     "output_type": "execute_result"
    }
   ],
   "source": [
    "type(a1), type(a2), type(a3)"
   ]
  },
  {
   "cell_type": "code",
   "execution_count": 17,
   "id": "74e371d1-f553-4c64-8c9f-a4e42dee61e1",
   "metadata": {},
   "outputs": [
    {
     "data": {
      "text/html": [
       "<div>\n",
       "<style scoped>\n",
       "    .dataframe tbody tr th:only-of-type {\n",
       "        vertical-align: middle;\n",
       "    }\n",
       "\n",
       "    .dataframe tbody tr th {\n",
       "        vertical-align: top;\n",
       "    }\n",
       "\n",
       "    .dataframe thead th {\n",
       "        text-align: right;\n",
       "    }\n",
       "</style>\n",
       "<table border=\"1\" class=\"dataframe\">\n",
       "  <thead>\n",
       "    <tr style=\"text-align: right;\">\n",
       "      <th></th>\n",
       "      <th>0</th>\n",
       "      <th>1</th>\n",
       "      <th>2</th>\n",
       "    </tr>\n",
       "  </thead>\n",
       "  <tbody>\n",
       "    <tr>\n",
       "      <th>0</th>\n",
       "      <td>1.0</td>\n",
       "      <td>2.0</td>\n",
       "      <td>3.3</td>\n",
       "    </tr>\n",
       "    <tr>\n",
       "      <th>1</th>\n",
       "      <td>4.0</td>\n",
       "      <td>5.0</td>\n",
       "      <td>6.5</td>\n",
       "    </tr>\n",
       "  </tbody>\n",
       "</table>\n",
       "</div>"
      ],
      "text/plain": [
       "     0    1    2\n",
       "0  1.0  2.0  3.3\n",
       "1  4.0  5.0  6.5"
      ]
     },
     "execution_count": 17,
     "metadata": {},
     "output_type": "execute_result"
    }
   ],
   "source": [
    "# Create a DataFrame from NumPy Array \n",
    "import pandas as pd \n",
    "\n",
    "df = pd.DataFrame(a2)\n",
    "df"
   ]
  },
  {
   "cell_type": "markdown",
   "id": "20dfdb0e-3ed0-4bf8-aac3-f7e79b73b23c",
   "metadata": {},
   "source": [
    "## **2. Creating Arrays**"
   ]
  },
  {
   "cell_type": "code",
   "execution_count": 18,
   "id": "b7f871c6-f88f-4380-92bf-e799f48e5cbd",
   "metadata": {},
   "outputs": [
    {
     "data": {
      "text/plain": [
       "array([1, 2, 3])"
      ]
     },
     "execution_count": 18,
     "metadata": {},
     "output_type": "execute_result"
    }
   ],
   "source": [
    "sample_array = np.array([1, 2, 3])\n",
    "sample_array"
   ]
  },
  {
   "cell_type": "code",
   "execution_count": 19,
   "id": "167ec660-09ee-409e-9d4d-e8702534e0f4",
   "metadata": {},
   "outputs": [
    {
     "data": {
      "text/plain": [
       "dtype('int32')"
      ]
     },
     "execution_count": 19,
     "metadata": {},
     "output_type": "execute_result"
    }
   ],
   "source": [
    "sample_array.dtype"
   ]
  },
  {
   "cell_type": "code",
   "execution_count": 20,
   "id": "d239557b-c807-4c54-9193-406749307650",
   "metadata": {},
   "outputs": [
    {
     "data": {
      "text/plain": [
       "array([[1., 1., 1.],\n",
       "       [1., 1., 1.]])"
      ]
     },
     "execution_count": 20,
     "metadata": {},
     "output_type": "execute_result"
    }
   ],
   "source": [
    "ones = np.ones((2, 3))\n",
    "ones"
   ]
  },
  {
   "cell_type": "code",
   "execution_count": 21,
   "id": "c59cd829-db73-4cf5-9e7c-aec558ef0c33",
   "metadata": {},
   "outputs": [
    {
     "data": {
      "text/plain": [
       "dtype('float64')"
      ]
     },
     "execution_count": 21,
     "metadata": {},
     "output_type": "execute_result"
    }
   ],
   "source": [
    "ones.dtype"
   ]
  },
  {
   "cell_type": "code",
   "execution_count": 25,
   "id": "b1258cbb-534a-47e1-80d0-908b8f55ed7c",
   "metadata": {},
   "outputs": [
    {
     "data": {
      "text/plain": [
       "array([[1, 1, 1],\n",
       "       [1, 1, 1]], dtype=int64)"
      ]
     },
     "execution_count": 25,
     "metadata": {},
     "output_type": "execute_result"
    }
   ],
   "source": [
    "# Challenge, change the data type within ones \n",
    "ones = ones.astype(np.int64)\n",
    "ones"
   ]
  },
  {
   "cell_type": "code",
   "execution_count": 27,
   "id": "2e9d1c25-38ea-4738-a772-509fe1010b6d",
   "metadata": {},
   "outputs": [
    {
     "data": {
      "text/plain": [
       "array([0, 2, 4, 6, 8])"
      ]
     },
     "execution_count": 27,
     "metadata": {},
     "output_type": "execute_result"
    }
   ],
   "source": [
    "range_array = np.arange(0, 10, 2)\n",
    "range_array"
   ]
  },
  {
   "cell_type": "code",
   "execution_count": 29,
   "id": "0f9a9fc5-d954-4f7c-bbec-72054816886c",
   "metadata": {},
   "outputs": [
    {
     "data": {
      "text/plain": [
       "array([[2, 5, 5, 5, 7],\n",
       "       [2, 1, 2, 3, 3],\n",
       "       [5, 1, 6, 1, 4]])"
      ]
     },
     "execution_count": 29,
     "metadata": {},
     "output_type": "execute_result"
    }
   ],
   "source": [
    "random_array = np.random.randint(0, 10, size=(3,5))\n",
    "random_array"
   ]
  },
  {
   "cell_type": "code",
   "execution_count": 36,
   "id": "e4d1b25b-797b-4938-9065-663cec392663",
   "metadata": {},
   "outputs": [
    {
     "name": "stdout",
     "output_type": "stream",
     "text": [
      "[[0.53545134 0.92948606 0.61034678]\n",
      " [0.67685308 0.12079174 0.31359707]\n",
      " [0.89112704 0.4431681  0.45642868]\n",
      " [0.76814193 0.30122092 0.77969718]\n",
      " [0.19227131 0.08448178 0.30420188]]\n",
      "Shape: (5, 3)\n"
     ]
    }
   ],
   "source": [
    "random_array2 = np.random.random((5,3))\n",
    "print(random_array2)\n",
    "print(f'Shape: {random_array2.shape}')"
   ]
  },
  {
   "cell_type": "code",
   "execution_count": 43,
   "id": "a6f84a76-117c-427c-b405-bad892b2493d",
   "metadata": {},
   "outputs": [
    {
     "data": {
      "text/plain": [
       "array([[4, 9, 6],\n",
       "       [3, 3, 7],\n",
       "       [7, 9, 7],\n",
       "       [8, 9, 8],\n",
       "       [7, 6, 4]])"
      ]
     },
     "execution_count": 43,
     "metadata": {},
     "output_type": "execute_result"
    }
   ],
   "source": [
    "# Pseudo-random numbers \n",
    "np.random.seed(seed=7)  # generates random numbers that are reproducable \n",
    "random_array3 = np.random.randint(10, size=(5, 3))  # make vaulues 0 to 10\n",
    "random_array3"
   ]
  },
  {
   "cell_type": "code",
   "execution_count": 44,
   "id": "a8d6a037-4af8-4055-9fe6-d08dea72f1e2",
   "metadata": {},
   "outputs": [
    {
     "data": {
      "text/plain": [
       "array([[0.86880146, 0.33083925, 0.39294231],\n",
       "       [0.67433042, 0.67231727, 0.69403158],\n",
       "       [0.34597294, 0.92952819, 0.26258377],\n",
       "       [0.75076273, 0.25489406, 0.85129459],\n",
       "       [0.17405276, 0.79076351, 0.93762934]])"
      ]
     },
     "execution_count": 44,
     "metadata": {},
     "output_type": "execute_result"
    }
   ],
   "source": [
    "random_array4 = np.random.random((5,3))\n",
    "random_array4"
   ]
  },
  {
   "cell_type": "code",
   "execution_count": null,
   "id": "687743ec-0f82-4181-8583-5dff65625797",
   "metadata": {},
   "outputs": [],
   "source": []
  }
 ],
 "metadata": {
  "kernelspec": {
   "display_name": "Python 3 (ipykernel)",
   "language": "python",
   "name": "python3"
  },
  "language_info": {
   "codemirror_mode": {
    "name": "ipython",
    "version": 3
   },
   "file_extension": ".py",
   "mimetype": "text/x-python",
   "name": "python",
   "nbconvert_exporter": "python",
   "pygments_lexer": "ipython3",
   "version": "3.12.5"
  }
 },
 "nbformat": 4,
 "nbformat_minor": 5
}

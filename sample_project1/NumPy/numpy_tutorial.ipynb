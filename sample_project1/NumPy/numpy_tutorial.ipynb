{
 "cells": [
  {
   "cell_type": "code",
   "execution_count": 2,
   "id": "75e0f5dd-323d-43b2-b5a5-d30b87d2eaef",
   "metadata": {},
   "outputs": [],
   "source": [
    "import numpy as np "
   ]
  },
  {
   "cell_type": "code",
   "execution_count": 3,
   "id": "f05e9887-9752-494f-b4a4-276cd11bf650",
   "metadata": {},
   "outputs": [
    {
     "name": "stdout",
     "output_type": "stream",
     "text": [
      "add_arrays_loop()\n",
      "\n",
      "a[i] + b[i] = 1 + 5 = 6\n",
      "a[i] + b[i] = 2 + 6 = 8\n",
      "a[i] + b[i] = 3 + 7 = 10\n",
      "a[i] + b[i] = 4 + 8 = 12\n",
      "\n",
      "\n",
      "add_arrays_vectorized function()\n",
      "\n",
      "a + b = [1 2 3 4] + [5 6 7 8] = [ 6  8 10 12]\n"
     ]
    }
   ],
   "source": [
    "# # Non-vectorized approach (slow)\n",
    "def add_arrays_loop(a, b):\n",
    "    print('add_arrays_loop()\\n')\n",
    "    result = np.empty_like(a)\n",
    "    for i in range(len(a)):\n",
    "        result[i] = a[i] + b[i]\n",
    "        print(f'a[i] + b[i] = {a[i]} + {b[i]} = {result[i]}')\n",
    "    return result\n",
    "\n",
    "# Vectorized approach (fast)\n",
    "def add_arrays_vectorized(a, b):\n",
    "    print('\\n\\nadd_arrays_vectorized function()\\n')\n",
    "    print(f'a + b = {a} + {b} = {a + b}')\n",
    "    return a + b\n",
    "\n",
    "# Usage\n",
    "a = np.array([1, 2, 3, 4])\n",
    "b = np.array([5, 6, 7, 8])\n",
    "\n",
    "result_non_vectorized = add_arrays_loop(a, b)\n",
    "result_vectorized = add_arrays_vectorized(a, b)"
   ]
  },
  {
   "cell_type": "markdown",
   "id": "f95f924b-b39e-4677-9407-330d3fb3ef84",
   "metadata": {},
   "source": [
    "<h2>Broadcasting in NumPy</h2>\n",
    "<p>a powerful mechanism that allows NumPy to work with arrays of different shapes when performing arithmetic operations. It automatically expands smaller arrays to match the shape of larger arrays without making copies of the data. This enables efficient operations between arrays of different sizes.</p>"
   ]
  },
  {
   "cell_type": "code",
   "execution_count": 4,
   "id": "aa3c1a60-a0a4-4bf8-acdf-bf2e2ee55359",
   "metadata": {},
   "outputs": [
    {
     "name": "stdout",
     "output_type": "stream",
     "text": [
      "a + b = [1 2 3 4] + [10] = [11 12 13 14]\n"
     ]
    }
   ],
   "source": [
    "a = np.array([1, 2, 3, 4])\n",
    "b = np.array([10])\n",
    "c = a + b  # b is broadcast to match a's shape\n",
    "# c becomes [11, 12, 13, 14]\n",
    "print(f'a + b = {a} + {b} = {c}')"
   ]
  },
  {
   "cell_type": "markdown",
   "id": "94d28730-c051-43b1-80fb-13a72cd220f1",
   "metadata": {},
   "source": [
    "<h2>ufun - universal functions</h2>\n",
    "<p>A ufunc is a function that operates element-wise on array inputs. These functions are vectorized and optimized for performance. NumPy provides many built-in ufuncs, and you can also create custom ones.</p>"
   ]
  },
  {
   "cell_type": "markdown",
   "id": "0d4bacde-c140-425e-8387-793f8ef872f9",
   "metadata": {},
   "source": [
    "<h2>Follow along</h2>\n",
    "<p>We will follow along now with the ZTM's introduction to AI course. Everything above was based on a conversation I had with Claude AI.</p>"
   ]
  },
  {
   "cell_type": "code",
   "execution_count": null,
   "id": "f6315538-6f75-4b04-8a76-354e5719ffff",
   "metadata": {},
   "outputs": [],
   "source": []
  },
  {
   "cell_type": "code",
   "execution_count": null,
   "id": "ad78b66c-68b6-4386-a177-081af7ba8ac0",
   "metadata": {},
   "outputs": [],
   "source": []
  },
  {
   "cell_type": "markdown",
   "id": "f087288e-b463-4fa1-b9c3-3ac370e7fd88",
   "metadata": {},
   "source": [
    "## Notes\n",
    "\n",
    "- **Main datatype:** The main datatype is ndarray\n",
    "- **ndarray (n-dimensional array):** n-dimensions indicate it can be any shape you can imagine and array's can be a list of numbers too.\n",
    "- **numpy.shape** can be shown as it is here\n",
    "\n",
    "![anatomy of a numpy array](anatomy-of-a-numpy-array.png)\n",
    "\n",
    "- **ndim:** stands for number of dimensions\n",
    "- **numpy.shape**\n",
    "  - 1 - dimension: (x,)\n",
    "  - 2 - dimension: (x,y)\n",
    "  - 3 - dimension: (x,y,z)\n",
    "  - It can go to n-dimensions depending on what kind of data you're working with\n",
    "- The number of dimensions are important to know b/c perhaps a machine-learning algorithm will find a pattern in the number of dimensions\n",
    "- Creating arrays.\n",
    "    - Type *variable = np.array([1, 2, 3])* or however you might populate a list within the parameter\n",
    "    - **variable = np.ones()** returns an array of ones\n",
    "    - **variable = np.zeros()** returns an array of 0's.\n",
    "    - **variable = np.arange(start, ends, step)** gives a range of values with a start and end. The step is how often the value will step for example .arange(0, 10, 2) would result in the following array [0, 2, 4, 6, 8]. \n",
    "    - **variable = np.random.random((x,y))** returns an array with random numbers having x rows and y columns.\n",
    "    - **random_array3** = np.random.randint(10, size=(5, 3))  # make vaulues 0 to 10\n",
    "    - You can plant the **seed** before creating random numbers; the seed is used to initialize the random number generator. Setting a specific seed ensures that the sequence of \"random\" numbers generated after that will always be the same.\n",
    "    - \n",
    "\n",
    "**Creating unique arrays and matrices**\n",
    "- Finding unique elements in a numpy array\n",
    "    -  **np.unique([array values here...])** - this will return the unique values within a NumPy array.\n",
    "    - In Python, **magic functions** (also known as dunder methods, where \"dunder\" stands for double underscore) are special methods with double underscores before and after their names. These methods allow you to define how objects of your custom classes behave in various situations.\n",
    "    - IPython\n",
    "        - **Enhanced shell**: More feature-rich than the standard Python REPL (Read-Eval-Print Loop).\n",
    "        - **Magic commands**: Special commands prefixed with % (like %timeit) that provide additional functionality.\n",
    "        - **Notebook interface**: IPython is the backend for Jupyter notebooks, which allow you to create documents with live code, visualizations, and narrative text.\n",
    "\n",
    "**Manipulating and Comparing Arrays**\n",
    "- Arithmetic\n",
    "    - First make sure that they are of the same data type, you can convert their data type as follows\n",
    "        - `a1_copy = a1`\n",
    "        - `a1_copy = a1_copy.astype(np.float64)` or whatever other data type you may want\n",
    "    - You can perform the following operations on these arrays\n",
    "      -  adding (+ or `np.add(array, array2)`)\n",
    "      - subtracting (- or `np.subtract(array, array2)`)\n",
    "      - division (/ or `np.divide(array, array2)`)\n",
    "      - multiplication (* or `np.multiply(array, array2)`)\n",
    "      - mod (// or `np.mod(array, array2)`)\n",
    "      - exponentiation alike to the ^ sign you type (** or `np.power(base, exponent)`)\n",
    "      - mod (% `np.mod(array, array2)`) \n",
    "      - exponential or e^(value) `np.exp(array)`\n",
    "- Different shape matrices\n",
    "    -  if there are 2 matrices (m x n) * (n x p) -> n = n, or the number of columns from the 1st matrix need to equal the number of rows in the 2nd matrix\n",
    "    -  You need to check a matrix's shape by typing `array.shape()`\n",
    "    -  You can reshape it by typing `variable = array.reshape(x, y, z, ... n)` up to however many dimensions necessary but remember the rule above when reshaping.\n",
    "    -  **Aggregation**: performing the same operation on a number of things.\n",
    "    -  Note, difference between Python's `sum()` and NumPy's `np.sum()` is the following\n",
    "        -  `%timeit sum(massive_array)  # Python's sum() then time it`\n",
    "            - 20.5 ms ± 2.94 ms per loop (mean ± std. dev. of 7 runs, 10 loops each)  \n",
    "        -  `%timeit np.sum(massive_array)  # NumPy's sum()`\n",
    "            -  58.5 μs ± 2.86 μs per loop (mean ± std. dev. of 7 runs, 10,000 loops each)\n",
    "    - Conclusion, NumPy is MUCH more faster\n",
    "        - ms is 10^(-3) seconds\n",
    "        - μs is 10^(-6) seconds\n",
    "\n",
    "\n"
   ]
  },
  {
   "cell_type": "markdown",
   "id": "b11bae02-0f29-4262-8cae-be29e6ba7774",
   "metadata": {},
   "source": [
    "### Statistic concepts\n",
    "Notes\n",
    "- **Mean**: (add all the numbers) / (how many numbers there are)\n",
    "    - so if there's (1 + 2 + 3) there are 3 numbers then you would do 6 / 3 = 2\n",
    "- **Standard deviation**: A measure of variation or dispersion in a set of values. Indicates how spread out numbers are from their average (mean).\n",
    "    - how spread out a group of numbers are from the mean \n",
    "    - the square root of the variance\n",
    "- **variance** - a measure of variability in a dataset that quantifies how far a set of numbers are spread out from their average (mean) value. It's essentially the average of the squared differences from the mean.\n",
    "    - higher variance - higher range of numbers \n",
    "    -  lower variance - lower range of numbers "
   ]
  },
  {
   "cell_type": "code",
   "execution_count": 5,
   "id": "44dec213-d871-43b5-a7a2-3eec78fdabc7",
   "metadata": {},
   "outputs": [
    {
     "data": {
      "text/plain": [
       "array([1, 2, 3])"
      ]
     },
     "execution_count": 5,
     "metadata": {},
     "output_type": "execute_result"
    }
   ],
   "source": [
    "# ndarray demo\n",
    "a1 = np.array([1, 2, 3])  # pass a list of numbers\n",
    "a1"
   ]
  },
  {
   "cell_type": "code",
   "execution_count": 6,
   "id": "6302c927-b631-457e-8eed-fc5c5c37182a",
   "metadata": {},
   "outputs": [
    {
     "data": {
      "text/plain": [
       "numpy.ndarray"
      ]
     },
     "execution_count": 6,
     "metadata": {},
     "output_type": "execute_result"
    }
   ],
   "source": [
    "type(a1)"
   ]
  },
  {
   "cell_type": "code",
   "execution_count": 55,
   "id": "097eca50-bcc1-4ddf-a5cf-22b0dd7fbbbf",
   "metadata": {},
   "outputs": [],
   "source": [
    "a2 = np.array([\n",
    "                [1, 2.0, 3.3], \n",
    "                [4, 5, 6.5]\n",
    "            ])\n",
    "\n",
    "a3 = np.array([[[1, 2, 3],\n",
    "                [4, 5, 6],\n",
    "               [7, 8, 9]],\n",
    "                [[10, 11, 12],\n",
    "               [13, 14, 15],\n",
    "                [16, 17, 18]]])"
   ]
  },
  {
   "cell_type": "code",
   "execution_count": 8,
   "id": "f32899fd-147d-4df9-b23a-91e390c8e82b",
   "metadata": {
    "scrolled": true
   },
   "outputs": [
    {
     "data": {
      "text/plain": [
       "array([[1. , 2. , 3.3],\n",
       "       [4. , 5. , 6.5]])"
      ]
     },
     "execution_count": 8,
     "metadata": {},
     "output_type": "execute_result"
    }
   ],
   "source": [
    "a2"
   ]
  },
  {
   "cell_type": "code",
   "execution_count": 9,
   "id": "567aadc8-3a84-4707-ae65-fbc4ba1b54a5",
   "metadata": {},
   "outputs": [
    {
     "data": {
      "text/plain": [
       "array([[[ 1,  2,  3],\n",
       "        [ 4,  5,  6]],\n",
       "\n",
       "       [[ 7,  8,  9],\n",
       "        [10, 11, 12]],\n",
       "\n",
       "       [[13, 14, 15],\n",
       "        [16, 17, 18]]])"
      ]
     },
     "execution_count": 9,
     "metadata": {},
     "output_type": "execute_result"
    }
   ],
   "source": [
    "a3"
   ]
  },
  {
   "cell_type": "code",
   "execution_count": 10,
   "id": "1bc8fd50-8558-42d4-b95b-801d6523c378",
   "metadata": {},
   "outputs": [
    {
     "data": {
      "text/plain": [
       "(3,)"
      ]
     },
     "execution_count": 10,
     "metadata": {},
     "output_type": "execute_result"
    }
   ],
   "source": [
    " a1.shape"
   ]
  },
  {
   "cell_type": "code",
   "execution_count": 11,
   "id": "68ca0be9-80c5-48fc-8dcc-2245fda62bea",
   "metadata": {},
   "outputs": [
    {
     "data": {
      "text/plain": [
       "(2, 3)"
      ]
     },
     "execution_count": 11,
     "metadata": {},
     "output_type": "execute_result"
    }
   ],
   "source": [
    "a2.shape"
   ]
  },
  {
   "cell_type": "code",
   "execution_count": 12,
   "id": "88e74fec-835f-48bf-9ca4-28d9acc9c14b",
   "metadata": {},
   "outputs": [
    {
     "data": {
      "text/plain": [
       "(3, 2, 3)"
      ]
     },
     "execution_count": 12,
     "metadata": {},
     "output_type": "execute_result"
    }
   ],
   "source": [
    "a3.shape"
   ]
  },
  {
   "cell_type": "code",
   "execution_count": 13,
   "id": "e96a4956-b647-4293-b7f7-9ff084465f98",
   "metadata": {},
   "outputs": [
    {
     "data": {
      "text/plain": [
       "(1, 2, 3)"
      ]
     },
     "execution_count": 13,
     "metadata": {},
     "output_type": "execute_result"
    }
   ],
   "source": [
    "a1.ndim, a2.ndim, a3.ndim"
   ]
  },
  {
   "cell_type": "code",
   "execution_count": 14,
   "id": "b368b754-de31-413f-b671-b47ada424f60",
   "metadata": {},
   "outputs": [
    {
     "data": {
      "text/plain": [
       "(dtype('int32'), dtype('float64'), dtype('int32'))"
      ]
     },
     "execution_count": 14,
     "metadata": {},
     "output_type": "execute_result"
    }
   ],
   "source": [
    "# a2 will convert the rest of the int's into floats\n",
    "a1.dtype, a2.dtype, a3.dtype"
   ]
  },
  {
   "cell_type": "code",
   "execution_count": 15,
   "id": "af7536e1-90e3-4fa1-830f-faf90e765d81",
   "metadata": {},
   "outputs": [
    {
     "data": {
      "text/plain": [
       "(3, 6, 18)"
      ]
     },
     "execution_count": 15,
     "metadata": {},
     "output_type": "execute_result"
    }
   ],
   "source": [
    "# Determine size\n",
    "a1.size, a2.size, a3.size"
   ]
  },
  {
   "cell_type": "code",
   "execution_count": 16,
   "id": "93bda7a5-56df-4d10-a37c-441e5b6df1ec",
   "metadata": {},
   "outputs": [
    {
     "data": {
      "text/plain": [
       "(numpy.ndarray, numpy.ndarray, numpy.ndarray)"
      ]
     },
     "execution_count": 16,
     "metadata": {},
     "output_type": "execute_result"
    }
   ],
   "source": [
    "type(a1), type(a2), type(a3)"
   ]
  },
  {
   "cell_type": "code",
   "execution_count": 17,
   "id": "74e371d1-f553-4c64-8c9f-a4e42dee61e1",
   "metadata": {},
   "outputs": [
    {
     "data": {
      "text/html": [
       "<div>\n",
       "<style scoped>\n",
       "    .dataframe tbody tr th:only-of-type {\n",
       "        vertical-align: middle;\n",
       "    }\n",
       "\n",
       "    .dataframe tbody tr th {\n",
       "        vertical-align: top;\n",
       "    }\n",
       "\n",
       "    .dataframe thead th {\n",
       "        text-align: right;\n",
       "    }\n",
       "</style>\n",
       "<table border=\"1\" class=\"dataframe\">\n",
       "  <thead>\n",
       "    <tr style=\"text-align: right;\">\n",
       "      <th></th>\n",
       "      <th>0</th>\n",
       "      <th>1</th>\n",
       "      <th>2</th>\n",
       "    </tr>\n",
       "  </thead>\n",
       "  <tbody>\n",
       "    <tr>\n",
       "      <th>0</th>\n",
       "      <td>1.0</td>\n",
       "      <td>2.0</td>\n",
       "      <td>3.3</td>\n",
       "    </tr>\n",
       "    <tr>\n",
       "      <th>1</th>\n",
       "      <td>4.0</td>\n",
       "      <td>5.0</td>\n",
       "      <td>6.5</td>\n",
       "    </tr>\n",
       "  </tbody>\n",
       "</table>\n",
       "</div>"
      ],
      "text/plain": [
       "     0    1    2\n",
       "0  1.0  2.0  3.3\n",
       "1  4.0  5.0  6.5"
      ]
     },
     "execution_count": 17,
     "metadata": {},
     "output_type": "execute_result"
    }
   ],
   "source": [
    "# Create a DataFrame from NumPy Array \n",
    "import pandas as pd \n",
    "\n",
    "df = pd.DataFrame(a2)\n",
    "df"
   ]
  },
  {
   "cell_type": "markdown",
   "id": "20dfdb0e-3ed0-4bf8-aac3-f7e79b73b23c",
   "metadata": {},
   "source": [
    "## **2. Creating Arrays**"
   ]
  },
  {
   "cell_type": "code",
   "execution_count": 18,
   "id": "b7f871c6-f88f-4380-92bf-e799f48e5cbd",
   "metadata": {},
   "outputs": [
    {
     "data": {
      "text/plain": [
       "array([1, 2, 3])"
      ]
     },
     "execution_count": 18,
     "metadata": {},
     "output_type": "execute_result"
    }
   ],
   "source": [
    "sample_array = np.array([1, 2, 3])\n",
    "sample_array"
   ]
  },
  {
   "cell_type": "code",
   "execution_count": 19,
   "id": "167ec660-09ee-409e-9d4d-e8702534e0f4",
   "metadata": {},
   "outputs": [
    {
     "data": {
      "text/plain": [
       "dtype('int32')"
      ]
     },
     "execution_count": 19,
     "metadata": {},
     "output_type": "execute_result"
    }
   ],
   "source": [
    "sample_array.dtype"
   ]
  },
  {
   "cell_type": "code",
   "execution_count": 20,
   "id": "d239557b-c807-4c54-9193-406749307650",
   "metadata": {},
   "outputs": [
    {
     "data": {
      "text/plain": [
       "array([[1., 1., 1.],\n",
       "       [1., 1., 1.]])"
      ]
     },
     "execution_count": 20,
     "metadata": {},
     "output_type": "execute_result"
    }
   ],
   "source": [
    "ones = np.ones((2, 3))\n",
    "ones"
   ]
  },
  {
   "cell_type": "code",
   "execution_count": 21,
   "id": "c59cd829-db73-4cf5-9e7c-aec558ef0c33",
   "metadata": {},
   "outputs": [
    {
     "data": {
      "text/plain": [
       "dtype('float64')"
      ]
     },
     "execution_count": 21,
     "metadata": {},
     "output_type": "execute_result"
    }
   ],
   "source": [
    "ones.dtype"
   ]
  },
  {
   "cell_type": "code",
   "execution_count": 25,
   "id": "b1258cbb-534a-47e1-80d0-908b8f55ed7c",
   "metadata": {},
   "outputs": [
    {
     "data": {
      "text/plain": [
       "array([[1, 1, 1],\n",
       "       [1, 1, 1]], dtype=int64)"
      ]
     },
     "execution_count": 25,
     "metadata": {},
     "output_type": "execute_result"
    }
   ],
   "source": [
    "# Challenge, change the data type within ones \n",
    "ones = ones.astype(np.int64)\n",
    "ones"
   ]
  },
  {
   "cell_type": "code",
   "execution_count": 27,
   "id": "2e9d1c25-38ea-4738-a772-509fe1010b6d",
   "metadata": {},
   "outputs": [
    {
     "data": {
      "text/plain": [
       "array([0, 2, 4, 6, 8])"
      ]
     },
     "execution_count": 27,
     "metadata": {},
     "output_type": "execute_result"
    }
   ],
   "source": [
    "range_array = np.arange(0, 10, 2)\n",
    "range_array"
   ]
  },
  {
   "cell_type": "code",
   "execution_count": 29,
   "id": "0f9a9fc5-d954-4f7c-bbec-72054816886c",
   "metadata": {},
   "outputs": [
    {
     "data": {
      "text/plain": [
       "array([[2, 5, 5, 5, 7],\n",
       "       [2, 1, 2, 3, 3],\n",
       "       [5, 1, 6, 1, 4]])"
      ]
     },
     "execution_count": 29,
     "metadata": {},
     "output_type": "execute_result"
    }
   ],
   "source": [
    "random_array = np.random.randint(0, 10, size=(3,5))\n",
    "random_array"
   ]
  },
  {
   "cell_type": "code",
   "execution_count": 36,
   "id": "e4d1b25b-797b-4938-9065-663cec392663",
   "metadata": {},
   "outputs": [
    {
     "name": "stdout",
     "output_type": "stream",
     "text": [
      "[[0.53545134 0.92948606 0.61034678]\n",
      " [0.67685308 0.12079174 0.31359707]\n",
      " [0.89112704 0.4431681  0.45642868]\n",
      " [0.76814193 0.30122092 0.77969718]\n",
      " [0.19227131 0.08448178 0.30420188]]\n",
      "Shape: (5, 3)\n"
     ]
    }
   ],
   "source": [
    "random_array2 = np.random.random((5,3))\n",
    "print(random_array2)\n",
    "print(f'Shape: {random_array2.shape}')"
   ]
  },
  {
   "cell_type": "code",
   "execution_count": 43,
   "id": "a6f84a76-117c-427c-b405-bad892b2493d",
   "metadata": {},
   "outputs": [
    {
     "data": {
      "text/plain": [
       "array([[4, 9, 6],\n",
       "       [3, 3, 7],\n",
       "       [7, 9, 7],\n",
       "       [8, 9, 8],\n",
       "       [7, 6, 4]])"
      ]
     },
     "execution_count": 43,
     "metadata": {},
     "output_type": "execute_result"
    }
   ],
   "source": [
    "# Pseudo-random numbers \n",
    "np.random.seed(seed=7)  # generates random numbers that are reproducable \n",
    "random_array3 = np.random.randint(10, size=(5, 3))  # make vaulues 0 to 10\n",
    "random_array3"
   ]
  },
  {
   "cell_type": "code",
   "execution_count": 48,
   "id": "a8d6a037-4af8-4055-9fe6-d08dea72f1e2",
   "metadata": {},
   "outputs": [
    {
     "data": {
      "text/plain": [
       "array([[0.54723513, 0.31020924, 0.28271973],\n",
       "       [0.92099354, 0.43334216, 0.41875723],\n",
       "       [0.98622315, 0.79357   , 0.3433051 ],\n",
       "       [0.30033908, 0.50395514, 0.62325582],\n",
       "       [0.65697232, 0.25913577, 0.40519906]])"
      ]
     },
     "execution_count": 48,
     "metadata": {},
     "output_type": "execute_result"
    }
   ],
   "source": [
    "random_array4 = np.random.random((5,3))\n",
    "random_array4"
   ]
  },
  {
   "cell_type": "markdown",
   "id": "91ea878c-3507-44e2-9b50-b67b91ad92c1",
   "metadata": {},
   "source": [
    "## **3. Viewing arrays and matrices**"
   ]
  },
  {
   "cell_type": "code",
   "execution_count": 49,
   "id": "c6002aff-1fef-4ac6-a7ef-f3927652b059",
   "metadata": {},
   "outputs": [
    {
     "data": {
      "text/plain": [
       "array([0.25913577, 0.28271973, 0.30033908, 0.31020924, 0.3433051 ,\n",
       "       0.40519906, 0.41875723, 0.43334216, 0.50395514, 0.54723513,\n",
       "       0.62325582, 0.65697232, 0.79357   , 0.92099354, 0.98622315])"
      ]
     },
     "execution_count": 49,
     "metadata": {},
     "output_type": "execute_result"
    }
   ],
   "source": [
    "np.unique(random_array4)"
   ]
  },
  {
   "cell_type": "code",
   "execution_count": 62,
   "id": "939d2a8d-6de3-40d4-815f-0c427e5e9246",
   "metadata": {},
   "outputs": [
    {
     "name": "stdout",
     "output_type": "stream",
     "text": [
      "a1 = [1 2 3]\n",
      "\n",
      "a2 = [[1.  2.  3.3]\n",
      " [4.  5.  6.5]]\n",
      "\n",
      "a3 = [[[ 1  2  3]\n",
      "  [ 4  5  6]\n",
      "  [ 7  8  9]]\n",
      "\n",
      " [[10 11 12]\n",
      "  [13 14 15]\n",
      "  [16 17 18]]]\n",
      "\n",
      "a1[0] = 1\n",
      "\n",
      "a2[0] = [1.  2.  3.3]\n",
      "\n",
      "a3[0] = [[1 2 3]\n",
      " [4 5 6]\n",
      " [7 8 9]]\n",
      "\n",
      "a1 shape: (3,), 1 row, 3 columns\n",
      "a3 shape: (2, 3), 2 rows, 3 columns\n",
      "a3 shape: (2, 3, 3), 2 layers, 3 rows, 3 columns (note, the layers are like a matrix, the rows and columns indicate thesize of that matrix)\n"
     ]
    }
   ],
   "source": [
    "print(f'a1 = {a1}\\n')\n",
    "print(f'a2 = {a2}\\n')\n",
    "print(f'a3 = {a3}\\n')\n",
    "print(f'a1[0] = {a1[0]}\\n')  # print 1st element\n",
    "print(f'a2[0] = {a2[0]}\\n')  # print 1st element, a row \n",
    "print(f'a3[0] = {a3[0]}\\n')  # a matrix 3x3 or 3 rows and 3 columns \n",
    "print(f'a1 shape: {a1.shape}, 1 row, 3 columns')\n",
    "print(f'a3 shape: {a2.shape}, 2 rows, 3 columns')\n",
    "print(f'a3 shape: {a3.shape}, 2 layers, 3 rows, 3 columns (note, the layers are like a matrix, the rows and columns indicate the'\n",
    "      f'size of that matrix)')"
   ]
  },
  {
   "cell_type": "code",
   "execution_count": 64,
   "id": "cf6dbe50-face-4104-a9df-6eb8ea3024cd",
   "metadata": {},
   "outputs": [
    {
     "data": {
      "text/plain": [
       "array([[[[5, 1, 4, 0, 7],\n",
       "         [2, 0, 3, 9, 8],\n",
       "         [3, 7, 1, 0, 1],\n",
       "         [4, 6, 1, 0, 1]],\n",
       "\n",
       "        [[0, 1, 8, 4, 1],\n",
       "         [6, 8, 5, 2, 4],\n",
       "         [7, 4, 1, 2, 8],\n",
       "         [5, 2, 9, 6, 2]],\n",
       "\n",
       "        [[5, 7, 7, 5, 5],\n",
       "         [6, 0, 6, 4, 6],\n",
       "         [2, 6, 8, 7, 0],\n",
       "         [5, 8, 9, 7, 7]]],\n",
       "\n",
       "\n",
       "       [[[6, 2, 5, 6, 1],\n",
       "         [9, 3, 4, 0, 3],\n",
       "         [5, 6, 4, 0, 4],\n",
       "         [1, 5, 2, 4, 8]],\n",
       "\n",
       "        [[7, 5, 7, 5, 3],\n",
       "         [7, 6, 2, 3, 1],\n",
       "         [1, 8, 4, 2, 1],\n",
       "         [7, 0, 8, 8, 1]],\n",
       "\n",
       "        [[2, 3, 0, 1, 1],\n",
       "         [5, 5, 6, 0, 9],\n",
       "         [3, 2, 4, 2, 8],\n",
       "         [4, 9, 0, 0, 2]]]])"
      ]
     },
     "execution_count": 64,
     "metadata": {},
     "output_type": "execute_result"
    }
   ],
   "source": [
    "a4 = np.random.randint(10, size=(2, 3, 4, 5))\n",
    "a4"
   ]
  },
  {
   "cell_type": "code",
   "execution_count": 65,
   "id": "3bbb2919-34b6-406d-a8ee-a866f529591c",
   "metadata": {},
   "outputs": [
    {
     "data": {
      "text/plain": [
       "array([[[[5, 1, 4, 0],\n",
       "         [2, 0, 3, 9],\n",
       "         [3, 7, 1, 0],\n",
       "         [4, 6, 1, 0]],\n",
       "\n",
       "        [[0, 1, 8, 4],\n",
       "         [6, 8, 5, 2],\n",
       "         [7, 4, 1, 2],\n",
       "         [5, 2, 9, 6]],\n",
       "\n",
       "        [[5, 7, 7, 5],\n",
       "         [6, 0, 6, 4],\n",
       "         [2, 6, 8, 7],\n",
       "         [5, 8, 9, 7]]],\n",
       "\n",
       "\n",
       "       [[[6, 2, 5, 6],\n",
       "         [9, 3, 4, 0],\n",
       "         [5, 6, 4, 0],\n",
       "         [1, 5, 2, 4]],\n",
       "\n",
       "        [[7, 5, 7, 5],\n",
       "         [7, 6, 2, 3],\n",
       "         [1, 8, 4, 2],\n",
       "         [7, 0, 8, 8]],\n",
       "\n",
       "        [[2, 3, 0, 1],\n",
       "         [5, 5, 6, 0],\n",
       "         [3, 2, 4, 2],\n",
       "         [4, 9, 0, 0]]]])"
      ]
     },
     "execution_count": 65,
     "metadata": {},
     "output_type": "execute_result"
    }
   ],
   "source": [
    "a4[:, :, :, :4]"
   ]
  },
  {
   "cell_type": "markdown",
   "id": "c28817d9-dbde-4e35-b403-92fa26a1519f",
   "metadata": {},
   "source": [
    "## 4. Manipulating & comparing arrays \n",
    "\n",
    "### Arithmetic "
   ]
  },
  {
   "cell_type": "code",
   "execution_count": 76,
   "id": "c2915693-56ac-42d6-be8a-108a46597b91",
   "metadata": {},
   "outputs": [
    {
     "name": "stdout",
     "output_type": "stream",
     "text": [
      "a1 = [1 2 3]\n",
      "a1_copy = [1. 2. 3.]\n",
      "ones = [1. 1. 1.]\n",
      "a1_copy + ones = [2. 3. 4.]\n",
      "a1_copy - ones = [0. 1. 2.]\n",
      "a1_copy * ones = [1. 2. 3.]\n",
      "a2 = [[1.  2.  3.3]\n",
      " [4.  5.  6.5]]\n",
      "a1_copy * a2 = [[ 1.   4.   9.9]\n",
      " [ 4.  10.  19.5]]\n"
     ]
    }
   ],
   "source": [
    "a1_copy = a1\n",
    "a1_copy = a1_copy.astype(np.float64)\n",
    "ones = np.ones(3)\n",
    "ones = ones.astype(np.float64)\n",
    "print(f'a1 = {a1}')\n",
    "print(f'a1_copy = {a1_copy}')\n",
    "print(f'ones = {ones}')\n",
    "print(f'a1_copy + ones = {a1_copy + ones}')\n",
    "print(f'a1_copy - ones = {a1_copy - ones}')\n",
    "print(f'a1_copy * ones = {a1_copy * ones}')\n",
    "print(f'a2 = {a2}')\n",
    "print(f'a1_copy * a2 = {a1_copy * a2}')"
   ]
  },
  {
   "cell_type": "code",
   "execution_count": 77,
   "id": "84487acd-11ac-468c-a7e4-94830d781e93",
   "metadata": {},
   "outputs": [
    {
     "ename": "ValueError",
     "evalue": "operands could not be broadcast together with shapes (2,3) (2,3,3) ",
     "output_type": "error",
     "traceback": [
      "\u001b[1;31m---------------------------------------------------------------------------\u001b[0m",
      "\u001b[1;31mValueError\u001b[0m                                Traceback (most recent call last)",
      "Cell \u001b[1;32mIn[77], line 2\u001b[0m\n\u001b[0;32m      1\u001b[0m \u001b[38;5;66;03m# This will throw an error \u001b[39;00m\n\u001b[1;32m----> 2\u001b[0m a2 \u001b[38;5;241m*\u001b[39m a3\n",
      "\u001b[1;31mValueError\u001b[0m: operands could not be broadcast together with shapes (2,3) (2,3,3) "
     ]
    }
   ],
   "source": [
    "# This will throw an error \n",
    "a2 * a3  # basically, different dimensions "
   ]
  },
  {
   "cell_type": "code",
   "execution_count": 90,
   "id": "5b9d72c3-0c9e-4439-af27-4294a232763d",
   "metadata": {},
   "outputs": [
    {
     "name": "stdout",
     "output_type": "stream",
     "text": [
      "a2_reshaped * a3 = [[[  1.    4.    9.9]\n",
      "  [  4.   10.   19.8]\n",
      "  [  7.   16.   29.7]]\n",
      "\n",
      " [[ 40.   55.   78. ]\n",
      "  [ 52.   70.   97.5]\n",
      "  [ 64.   85.  117. ]]]\n",
      "a1 / ones = [1. 2. 3.]\n",
      "a2 //a1 = [[1. 1. 1.]\n",
      " [4. 2. 2.]]\n",
      "a2 ^ 2 = [ 1  4  9 16]\n",
      "v2: a2 ^ 2 = [[ 1.    4.   10.89]\n",
      " [16.   25.   42.25]]\n",
      "a1 + ones = [2. 3. 4.]\n",
      "a1 + ones = [2. 3. 4.]\n",
      "a1 mod 2 = [1 0 1]\n",
      "a2 mod 2 = [[1.  0.  1.3]\n",
      " [0.  1.  0.5]]\n",
      "e^(a1's elements) = [ 2.71828183  7.3890561  20.08553692]\n"
     ]
    }
   ],
   "source": [
    "# Solution \n",
    "a2_reshaped = a2.reshape(2, 1, 3)\n",
    "print(f'a2_reshaped * a3 = {a2_reshaped * a3}')\n",
    "print(f'a1 / ones = {a1 / ones}')\n",
    "print(f'a2 //a1 = {a2 // a1}')  # floor division, rounds down removing decimals\n",
    "print(f'a2 ^ 2 = {a ** 2}')  # raise to the power of two \n",
    "print(f'v2: a2 ^ 2 = {np.square(a2)}')  # alternative to line above\n",
    "print(f'a1 + ones = {a1 + ones}')\n",
    "print(f'a1 + ones = {np.add(a1, ones)}')\n",
    "print(f'a1 mod 2 = {a1 % 2}')\n",
    "print(f'a2 mod 2 = {a2 % 2}')\n",
    "print(f'e^(a1\\'s elements) = {np.exp(a1)}')"
   ]
  },
  {
   "cell_type": "markdown",
   "id": "7d797e7b-f955-4413-8f78-d2a7d45a30df",
   "metadata": {},
   "source": [
    "### Aggregation \n",
    "\n",
    "**Aggregation**: performing the same operation on a number of things. "
   ]
  },
  {
   "cell_type": "code",
   "execution_count": 92,
   "id": "8a5f0868-58f2-4a15-a146-9f4fb9ae893a",
   "metadata": {},
   "outputs": [
    {
     "name": "stdout",
     "output_type": "stream",
     "text": [
      "type(listy_list) = <class 'list'>\n",
      "listy_list = [1, 2, 3]\n",
      "sum(listy_list) = 6\n",
      "a1 = [1 2 3]\n",
      "sum(a1) = 6\n",
      "np.sum(a1) 6\n"
     ]
    }
   ],
   "source": [
    "listy_list = [1, 2, 3]\n",
    "print(f'type(listy_list) = {type(listy_list)}')\n",
    "print(f'listy_list = {listy_list}')\n",
    "print(f'sum(listy_list) = {sum(listy_list)}')\n",
    "print(f'a1 = {a1}')\n",
    "print(f'sum(a1) = {sum(a1)}')\n",
    "print(f'np.sum(a1) {np.sum(a1)}')\n"
   ]
  },
  {
   "cell_type": "markdown",
   "id": "c97f9d60-fae2-4e0a-a580-816e88bff445",
   "metadata": {},
   "source": [
    "Use Python's methods (`sum()`) on Python datatypes and use NumPy's methods on NumPy arrays. (`np.sum()`)."
   ]
  },
  {
   "cell_type": "code",
   "execution_count": 96,
   "id": "2ba228d8-ddaa-47aa-a1aa-cc99059f22b8",
   "metadata": {},
   "outputs": [
    {
     "name": "stdout",
     "output_type": "stream",
     "text": [
      "massive_array size = 100000\n",
      "massive_array first 20 elements = [0.21502059 0.21920562 0.54690615 0.60148342 0.21751412 0.46709702\n",
      " 0.92112528 0.89325236 0.45927672 0.06716891]\n",
      "20.5 ms ± 2.94 ms per loop (mean ± std. dev. of 7 runs, 10 loops each)\n",
      "58.5 μs ± 2.86 μs per loop (mean ± std. dev. of 7 runs, 10,000 loops each)\n"
     ]
    }
   ],
   "source": [
    "massive_array = np.random.random(100000)\n",
    "print(f'massive_array size = {len(massive_array)}')\n",
    "print(f'massive_array first 20 elements = {massive_array[:10]}')\n",
    "\n",
    "# magic function has a percentage in the front of it \n",
    "%timeit sum(massive_array)  # Python's sum() then time it \n",
    "%timeit np.sum(massive_array)  # NumPy's sum()"
   ]
  },
  {
   "cell_type": "markdown",
   "id": "045b50f7-5a6a-48b4-9734-a967a800f2be",
   "metadata": {},
   "source": [
    "**Conclusion** NumPy's sum() function is 526 times MUCH faster. "
   ]
  },
  {
   "cell_type": "code",
   "execution_count": 103,
   "id": "a5217e41-3cc0-468d-9def-7e14f626a3b6",
   "metadata": {},
   "outputs": [
    {
     "name": "stdout",
     "output_type": "stream",
     "text": [
      "a2 = [[1.  2.  3.3]\n",
      " [4.  5.  6.5]]\n",
      "mean of a2 = 3.6\n",
      "max of a2 = 6.5\n",
      "standard deviation of a2 = 1.8\n",
      "variance of a2 = 3.3\n",
      "standard deviation = sqrt(variance(a2)) = 1.8\n"
     ]
    }
   ],
   "source": [
    "# Showing statistical concepts\n",
    "print(f'a2 = {a2}')\n",
    "print(f'mean of a2 = {np.mean(a2):,.2}')\n",
    "print(f'max of a2 = {np.max(a2):,.2}')\n",
    "print(f'standard deviation of a2 = {np.std(a2):,.2}')\n",
    "print(f'variance of a2 = {np.var(a2):,.2}')\n",
    "print(f'standard deviation = sqrt(variance(a2)) = {np.sqrt(np.var(a2)):,.2}')"
   ]
  },
  {
   "cell_type": "code",
   "execution_count": 118,
   "id": "0adde2b5-6992-4f07-8841-a17c7ada9f4e",
   "metadata": {
    "scrolled": true
   },
   "outputs": [
    {
     "name": "stdout",
     "output_type": "stream",
     "text": [
      "high_var_array = [   1  100  200  300 4000 5000]\n",
      "low_vary_array = [ 2  4  6  8 10]\n",
      "high_vary_array variance = 4,296,133.47\n",
      "low_var_array variance = 8.0\n",
      "high_var_array standard deviation = 2,072.71\n",
      "low_var_array standard deviation = 2.83\n",
      "high_var_array mean = 1,600.17\n",
      "low_vary_array mean = 6.0\n"
     ]
    }
   ],
   "source": [
    "# Demo std and var \n",
    "high_var_array = np.array([1, 100, 200, 300, 4000, 5000])\n",
    "low_var_array = np.array([2, 4, 6, 8, 10])\n",
    "print(f'high_var_array = {high_var_array:}')\n",
    "print(f'low_vary_array = {low_var_array}')\n",
    "print(f'high_vary_array variance = {np.var(high_var_array):,.2f}')\n",
    "print(f'low_var_array variance = {np.var(low_var_array)}')\n",
    "print(f'high_var_array standard deviation = {np.std(high_var_array):,.2f}')\n",
    "print(f'low_var_array standard deviation = {np.std(low_var_array):,.2f}')\n",
    "print(f'high_var_array mean = {np.mean(high_var_array):,.2f}')\n",
    "print(f'low_vary_array mean = {np.mean(low_var_array):,}')"
   ]
  },
  {
   "cell_type": "code",
   "execution_count": 120,
   "id": "46a96d16-d0a5-412c-8965-e05ece682912",
   "metadata": {},
   "outputs": [
    {
     "data": {
      "image/png": "[encoded data removed]",
      "text/plain": [
       "<Figure size 640x480 with 1 Axes>"
      ]
     },
     "metadata": {},
     "output_type": "display_data"
    }
   ],
   "source": [
    "# Plot \n",
    "%matplotlib inline \n",
    "import matplotlib.pyplot as plt \n",
    "plt.hist(high_var_array)\n",
    "plt.show()"
   ]
  },
  {
   "cell_type": "code",
   "execution_count": 121,
   "id": "e778b5e7-0d26-44ee-b3d2-4c44aa506b2f",
   "metadata": {},
   "outputs": [
    {
     "data": {
      "image/png": "[encoded data removed]",
      "text/plain": [
       "<Figure size 640x480 with 1 Axes>"
      ]
     },
     "metadata": {},
     "output_type": "display_data"
    }
   ],
   "source": [
    "plt.hist(low_var_array)\n",
    "plt.show()"
   ]
  },
  {
   "cell_type": "markdown",
   "id": "c5f2ad18-4f96-4948-b42d-cf7300f64bc4",
   "metadata": {},
   "source": [
    "### Reshaping and transposing"
   ]
  },
  {
   "cell_type": "code",
   "execution_count": 38,
   "id": "31d3dd61-ee84-49a3-b9f5-704cd09a1b83",
   "metadata": {},
   "outputs": [
    {
     "name": "stdout",
     "output_type": "stream",
     "text": [
      "a2 = [[1.  2.  3.3]\n",
      " [4.  5.  6.5]]\n",
      "a3 = [[[ 1  2  3]\n",
      "  [ 4  5  6]\n",
      "  [ 7  8  9]]\n",
      "\n",
      " [[10 11 12]\n",
      "  [13 14 15]\n",
      "  [16 17 18]]]\n",
      "a2 shape = (2, 3)\n",
      "a3 shape = (2, 3, 3)\n",
      "a2 * a3 NOT POSSIBLE, first reshape or transpose\n",
      "a2.reshape(2, 3, 1) = (2, 3, 1)\n",
      "a2_reshape = [[[1. ]\n",
      "  [2. ]\n",
      "  [3.3]]\n",
      "\n",
      " [[4. ]\n",
      "  [5. ]\n",
      "  [6.5]]]\n",
      "a2_reshape * a3 = [[[  1.    2.    3. ]\n",
      "  [  8.   10.   12. ]\n",
      "  [ 23.1  26.4  29.7]]\n",
      "\n",
      " [[ 40.   44.   48. ]\n",
      "  [ 65.   70.   75. ]\n",
      "  [104.  110.5 117. ]]]\n",
      "a3 * a2_reshape = [[[  1.    2.    3. ]\n",
      "  [  8.   10.   12. ]\n",
      "  [ 23.1  26.4  29.7]]\n",
      "\n",
      " [[ 40.   44.   48. ]\n",
      "  [ 65.   70.   75. ]\n",
      "  [104.  110.5 117. ]]]\n"
     ]
    }
   ],
   "source": [
    "print(f'a2 = {a2}')\n",
    "print(f'a3 = {a3}')\n",
    "print(f'a2 shape = {a2.shape}')\n",
    "print(f'a3 shape = {a3.shape}')\n",
    "print(f'a2 * a3 NOT POSSIBLE, first reshape or transpose')\n",
    "print(f'a2.reshape(2, 3, 1) = {a2.reshape(2,3,1).shape}')\n",
    "a2_reshape = a2.reshape(2,3,1)\n",
    "print(f'a2_reshape = {a2_reshape}')\n",
    "print(f'a2_reshape * a3 = {a2_reshape * a3}')\n",
    "print(f'a3 * a2_reshape = {a3 * a2_reshape}')"
   ]
  },
  {
   "cell_type": "markdown",
   "id": "17e36f6d-2ca9-4507-9b11-bdcd4dcc71b7",
   "metadata": {},
   "source": [
    "Work shown for `a2_reshape * a3`\n",
    "\n",
    "a2_reshape = [[[1. ],  # Shape: (2, 3, 1)\n",
    "\n",
    "               [2. ],\n",
    "               \n",
    "               [3.3]],\n",
    "               \n",
    "              [[4. ],\n",
    "              \n",
    "               [5. ],\n",
    "               \n",
    "               [6.5]]]\n",
    "\n",
    "a3 = [[[ 1,  2,  3],  # Shape: (2, 3, 3)\n",
    "\n",
    "       [ 4,  5,  6],\n",
    "       \n",
    "       [ 7,  8,  9]],\n",
    "       \n",
    "      [[10, 11, 12],\n",
    "      \n",
    "       [13, 14, 15],\n",
    "       \n",
    "       [16, 17, 18]]]\n",
    "       \n",
    "[1.] * [1, 2, 3] = [(1* 1), (1* 2), (1* 3)] = [1, 2, 3]\n",
    "\n",
    "[2.] * [4, 5, 6] = [(2* 4), (2* 5), (2* 6)] = [8, 10, 12]\n",
    "\n",
    "[3.3] * [7, 8, 9] = [(3.3* 7), (3.3* 8), (3.3* 9)] = [23.1, 26.4, 29.7]\n",
    "This continues for the second set of elements (4., 5., 6.5)\n",
    "\n",
    "[4.] * [10, 11, 12] = [(4* 10), (4* 11), (4* 12)] = [40, 44, 48]\n",
    "\n",
    "[5.] * [13, 14, 15] = [(5* 13), (5* 14), (5* 15)] = [65, 70, 75]\n",
    "\n",
    "[6.5] * [16, 17, 18] = [(6.5* 16), (6.5* 17), (6.5*18)] = [104, 110.5, 117]\n",
    "\n",
    "### Result\n",
    "[[[  1.    2.    3. ]\n",
    "\n",
    "  [  8.   10.   12. ]\n",
    "  \n",
    "  [ 23.1  26.4  29.7]]\n",
    "  \n",
    "\n",
    " [[ 40.   44.   48. ]\n",
    " \n",
    "  [ 65.   70.   75. ]\n",
    "  \n",
    "  [104.  110.5 117. ]]]"
   ]
  },
  {
   "cell_type": "code",
   "execution_count": 40,
   "id": "5dd58e7e-3275-477d-b9af-b6bd7b5bd7e5",
   "metadata": {},
   "outputs": [
    {
     "name": "stdout",
     "output_type": "stream",
     "text": [
      "a2 = [[1.  2.  3.3]\n",
      " [4.  5.  6.5]]\n",
      "a2 transpose = [[1.  4. ]\n",
      " [2.  5. ]\n",
      " [3.3 6.5]]\n",
      "a3 = [[[ 1  2  3]\n",
      "  [ 4  5  6]\n",
      "  [ 7  8  9]]\n",
      "\n",
      " [[10 11 12]\n",
      "  [13 14 15]\n",
      "  [16 17 18]]]\n",
      "a3 transpose = [[[ 1 10]\n",
      "  [ 4 13]\n",
      "  [ 7 16]]\n",
      "\n",
      " [[ 2 11]\n",
      "  [ 5 14]\n",
      "  [ 8 17]]\n",
      "\n",
      " [[ 3 12]\n",
      "  [ 6 15]\n",
      "  [ 9 18]]]\n",
      "a3 shape = (2, 3, 3)\n",
      "a3 shape transpose = (3, 3, 2)\n"
     ]
    }
   ],
   "source": [
    "# Transpose demo \n",
    "print(f'a2 = {a2}')\n",
    "print(f'a2 transpose = {a2.T}')\n",
    "print(f'a3 = {a3}')\n",
    "print(f'a3 transpose = {a3.T}')\n",
    "print(f'a3 shape = {a3.shape}')\n",
    "print(f'a3 shape transpose = {a3.T.shape}')"
   ]
  },
  {
   "cell_type": "markdown",
   "id": "f09ff30d-89ae-4b45-8515-04cd6b4505f5",
   "metadata": {},
   "source": [
    "# Dot Product "
   ]
  },
  {
   "cell_type": "code",
   "execution_count": 50,
   "id": "5ed96baf-90a2-4317-b0da-020845ebf6ab",
   "metadata": {},
   "outputs": [
    {
     "name": "stdout",
     "output_type": "stream",
     "text": [
      "mat1 = \n",
      "[[5 0 3]\n",
      " [3 7 9]\n",
      " [3 5 2]\n",
      " [4 7 6]\n",
      " [8 8 1]]\n",
      "\n",
      "mat1 shape = \n",
      "(5, 3)\n",
      "\n",
      "mat2 = \n",
      "[[6 7 7]\n",
      " [8 1 5]\n",
      " [9 8 9]\n",
      " [4 3 0]\n",
      " [3 5 0]]\n",
      "\n",
      "mat2 shape = \n",
      "(5, 3)\n",
      "\n",
      "mat1 * mat2 = \n",
      "[[30  0 21]\n",
      " [24  7 45]\n",
      " [27 40 18]\n",
      " [16 21  0]\n",
      " [24 40  0]]\n",
      "\n",
      "\n",
      "mat1.dot(mat2) WOULD NOT WORK b/c of their shapes. TO multiply 2 matrices, they need thesame dimensions OR the number of columns in the first matrix must be equal to the number of rows in the second matrix\n",
      "mat1.dot(mat2 (transposed)) = \n",
      "[[ 51  55  72  20  15]\n",
      " [130  76 164  33  44]\n",
      " [ 67  39  85  27  34]\n",
      " [115  69 146  37  47]\n",
      " [111  77 145  56  64]]\n",
      "\n",
      "The calculation worked b/c of the shapes this time.\n",
      "mat1.shape = (5, 3)\n",
      "mat2.T.shape = (3, 5)\n"
     ]
    }
   ],
   "source": [
    "np.random.seed(0)\n",
    "\n",
    "mat1 = np.random.randint(10, size=(5, 3))\n",
    "mat2 = np.random.randint(10, size=(5, 3))\n",
    "\n",
    "print(f'mat1 = \\n{mat1}\\n\\nmat1 shape = \\n{mat1.shape}\\n')\n",
    "print(f'mat2 = \\n{mat2}\\n\\nmat2 shape = \\n{mat2.shape}\\n')\n",
    "print(f'mat1 * mat2 = \\n{mat1 * mat2}\\n\\n')  # element-wise multiplication aka (Hadamard Product)\n",
    "print(f'mat1.dot(mat2) WOULD NOT WORK b/c of their shapes. TO multiply 2 matrices, they need the'\n",
    "      f'same dimensions OR the number of columns in the first matrix must be equal to the number of rows in the second matrix')\n",
    "print(f'mat1.dot(mat2 (transposed)) = \\n{mat1.dot(mat2.T)}\\n')\n",
    "print(f'The calculation worked b/c of the shapes this time.')\n",
    "print(f'mat1.shape = {mat1.shape}')\n",
    "print(f'mat2.T.shape = {mat2.T.shape}')"
   ]
  },
  {
   "cell_type": "markdown",
   "id": "e9ed026f-22f0-4d80-908a-fae674c8f191",
   "metadata": {},
   "source": [
    "### Dot Product Example (nutter butter sales)"
   ]
  },
  {
   "cell_type": "code",
   "execution_count": 58,
   "id": "bdb59e13-d6fe-4966-ba75-e093530a7038",
   "metadata": {},
   "outputs": [
    {
     "name": "stdout",
     "output_type": "stream",
     "text": [
      "sales_amounts = [[12 15  0]\n",
      " [ 3  3  7]\n",
      " [ 9 19 18]\n",
      " [ 4  6 12]\n",
      " [ 1  6  7]]\n",
      "\n",
      "weekly_sales =\n",
      "       Almond Butter  Peanut butter  Cashew Butter\n",
      "Mon               12             15              0\n",
      "Tue                3              3              7\n",
      "Wed                9             19             18\n",
      "Thurs              4              6             12\n",
      "Fri                1              6              7\n",
      "\n",
      "prices = [10  8 12]\n",
      "\n",
      "prices.shape = (3,)\n",
      "\n",
      "We'll have to reshape the array to .shape(1,3)\n",
      "       Almond Butter  Peanut butter  Cashew Butter\n",
      "Price             10              8             12\n"
     ]
    }
   ],
   "source": [
    "np.random.seed(0)\n",
    "# Number of jars sold \n",
    "sales_amounts = np.random.randint(20, size=(5,3))\n",
    "print(f'sales_amounts = {sales_amounts}')\n",
    "\n",
    "# Create DataFrame using Pandas \n",
    "weekly_sales = pd.DataFrame(sales_amounts, \n",
    "                           index=['Mon', 'Tue', 'Wed', 'Thurs','Fri'],\n",
    "                           columns=['Almond Butter', 'Peanut butter', 'Cashew Butter'])\n",
    "print(f'\\nweekly_sales =\\n{weekly_sales}')\n",
    "prices = np.array([10, 8, 12])\n",
    "print(f'\\nprices = {prices}')\n",
    "print(f'\\nprices.shape = {prices.shape}\\n')\n",
    "print(f'We\\'ll have to reshape the array to .shape(1,3)')\n",
    "\n",
    "# Create butter prices dataframe\n",
    "butter_prices = pd.DataFrame(prices.reshape(1, 3),\n",
    "                            index=['Price'],\n",
    "                            columns=['Almond Butter', 'Peanut butter', 'Cashew Butter'])\n",
    "print(butter_prices)"
   ]
  },
  {
   "cell_type": "code",
   "execution_count": 59,
   "id": "e30e963d-1c7d-450b-a941-5a3003dea0f7",
   "metadata": {},
   "outputs": [
    {
     "data": {
      "text/html": [
       "<div>\n",
       "<style scoped>\n",
       "    .dataframe tbody tr th:only-of-type {\n",
       "        vertical-align: middle;\n",
       "    }\n",
       "\n",
       "    .dataframe tbody tr th {\n",
       "        vertical-align: top;\n",
       "    }\n",
       "\n",
       "    .dataframe thead th {\n",
       "        text-align: right;\n",
       "    }\n",
       "</style>\n",
       "<table border=\"1\" class=\"dataframe\">\n",
       "  <thead>\n",
       "    <tr style=\"text-align: right;\">\n",
       "      <th></th>\n",
       "      <th>Almond Butter</th>\n",
       "      <th>Peanut butter</th>\n",
       "      <th>Cashew Butter</th>\n",
       "    </tr>\n",
       "  </thead>\n",
       "  <tbody>\n",
       "    <tr>\n",
       "      <th>Mon</th>\n",
       "      <td>12</td>\n",
       "      <td>15</td>\n",
       "      <td>0</td>\n",
       "    </tr>\n",
       "    <tr>\n",
       "      <th>Tue</th>\n",
       "      <td>3</td>\n",
       "      <td>3</td>\n",
       "      <td>7</td>\n",
       "    </tr>\n",
       "    <tr>\n",
       "      <th>Wed</th>\n",
       "      <td>9</td>\n",
       "      <td>19</td>\n",
       "      <td>18</td>\n",
       "    </tr>\n",
       "    <tr>\n",
       "      <th>Thurs</th>\n",
       "      <td>4</td>\n",
       "      <td>6</td>\n",
       "      <td>12</td>\n",
       "    </tr>\n",
       "    <tr>\n",
       "      <th>Fri</th>\n",
       "      <td>1</td>\n",
       "      <td>6</td>\n",
       "      <td>7</td>\n",
       "    </tr>\n",
       "  </tbody>\n",
       "</table>\n",
       "</div>"
      ],
      "text/plain": [
       "       Almond Butter  Peanut butter  Cashew Butter\n",
       "Mon               12             15              0\n",
       "Tue                3              3              7\n",
       "Wed                9             19             18\n",
       "Thurs              4              6             12\n",
       "Fri                1              6              7"
      ]
     },
     "execution_count": 59,
     "metadata": {},
     "output_type": "execute_result"
    }
   ],
   "source": [
    "weekly_sales"
   ]
  },
  {
   "cell_type": "code",
   "execution_count": 60,
   "id": "c1b434bb-0737-4cd1-84f5-4a4be8ba7fd6",
   "metadata": {},
   "outputs": [
    {
     "data": {
      "text/html": [
       "<div>\n",
       "<style scoped>\n",
       "    .dataframe tbody tr th:only-of-type {\n",
       "        vertical-align: middle;\n",
       "    }\n",
       "\n",
       "    .dataframe tbody tr th {\n",
       "        vertical-align: top;\n",
       "    }\n",
       "\n",
       "    .dataframe thead th {\n",
       "        text-align: right;\n",
       "    }\n",
       "</style>\n",
       "<table border=\"1\" class=\"dataframe\">\n",
       "  <thead>\n",
       "    <tr style=\"text-align: right;\">\n",
       "      <th></th>\n",
       "      <th>Almond Butter</th>\n",
       "      <th>Peanut butter</th>\n",
       "      <th>Cashew Butter</th>\n",
       "    </tr>\n",
       "  </thead>\n",
       "  <tbody>\n",
       "    <tr>\n",
       "      <th>Price</th>\n",
       "      <td>10</td>\n",
       "      <td>8</td>\n",
       "      <td>12</td>\n",
       "    </tr>\n",
       "  </tbody>\n",
       "</table>\n",
       "</div>"
      ],
      "text/plain": [
       "       Almond Butter  Peanut butter  Cashew Butter\n",
       "Price             10              8             12"
      ]
     },
     "execution_count": 60,
     "metadata": {},
     "output_type": "execute_result"
    }
   ],
   "source": [
    "butter_prices"
   ]
  },
  {
   "cell_type": "code",
   "execution_count": 63,
   "id": "b729625b-cca0-48d4-a423-7a3762450557",
   "metadata": {},
   "outputs": [
    {
     "name": "stdout",
     "output_type": "stream",
     "text": [
      "prices = [10  8 12]\n",
      "prices shape = (3,)\n",
      "sales_amount shape = (5, 3)\n"
     ]
    },
    {
     "data": {
      "text/plain": [
       "array([240, 138, 458, 232, 142])"
      ]
     },
     "execution_count": 63,
     "metadata": {},
     "output_type": "execute_result"
    }
   ],
   "source": [
    "print(f'prices = {prices}')\n",
    "print(f'prices shape = {prices.shape}')\n",
    "print(f'sales_amount shape = {sales_amounts.shape}')\n",
    "\n",
    "# modify the shape of \"prices\" by transposing\n",
    "total_sales = prices.dot(sales_amounts.T)\n",
    "total_sales"
   ]
  },
  {
   "cell_type": "code",
   "execution_count": 65,
   "id": "011afc30-743a-45d6-99a1-a1f114ee16da",
   "metadata": {},
   "outputs": [
    {
     "data": {
      "text/html": [
       "<div>\n",
       "<style scoped>\n",
       "    .dataframe tbody tr th:only-of-type {\n",
       "        vertical-align: middle;\n",
       "    }\n",
       "\n",
       "    .dataframe tbody tr th {\n",
       "        vertical-align: top;\n",
       "    }\n",
       "\n",
       "    .dataframe thead th {\n",
       "        text-align: right;\n",
       "    }\n",
       "</style>\n",
       "<table border=\"1\" class=\"dataframe\">\n",
       "  <thead>\n",
       "    <tr style=\"text-align: right;\">\n",
       "      <th></th>\n",
       "      <th>Mon</th>\n",
       "      <th>Tue</th>\n",
       "      <th>Wed</th>\n",
       "      <th>Thurs</th>\n",
       "      <th>Fri</th>\n",
       "    </tr>\n",
       "  </thead>\n",
       "  <tbody>\n",
       "    <tr>\n",
       "      <th>Price</th>\n",
       "      <td>240</td>\n",
       "      <td>138</td>\n",
       "      <td>458</td>\n",
       "      <td>232</td>\n",
       "      <td>142</td>\n",
       "    </tr>\n",
       "  </tbody>\n",
       "</table>\n",
       "</div>"
      ],
      "text/plain": [
       "       Mon  Tue  Wed  Thurs  Fri\n",
       "Price  240  138  458    232  142"
      ]
     },
     "execution_count": 65,
     "metadata": {},
     "output_type": "execute_result"
    }
   ],
   "source": [
    "# Create daily sales \n",
    "daily_sales = butter_prices.dot(weekly_sales.T)\n",
    "daily_sales"
   ]
  },
  {
   "cell_type": "code",
   "execution_count": 67,
   "id": "847d6da7-6bba-4862-9df1-4a57725892c7",
   "metadata": {},
   "outputs": [
    {
     "data": {
      "text/html": [
       "<div>\n",
       "<style scoped>\n",
       "    .dataframe tbody tr th:only-of-type {\n",
       "        vertical-align: middle;\n",
       "    }\n",
       "\n",
       "    .dataframe tbody tr th {\n",
       "        vertical-align: top;\n",
       "    }\n",
       "\n",
       "    .dataframe thead th {\n",
       "        text-align: right;\n",
       "    }\n",
       "</style>\n",
       "<table border=\"1\" class=\"dataframe\">\n",
       "  <thead>\n",
       "    <tr style=\"text-align: right;\">\n",
       "      <th></th>\n",
       "      <th>Almond Butter</th>\n",
       "      <th>Peanut butter</th>\n",
       "      <th>Cashew Butter</th>\n",
       "      <th>Total ($)</th>\n",
       "    </tr>\n",
       "  </thead>\n",
       "  <tbody>\n",
       "    <tr>\n",
       "      <th>Mon</th>\n",
       "      <td>12</td>\n",
       "      <td>15</td>\n",
       "      <td>0</td>\n",
       "      <td>240</td>\n",
       "    </tr>\n",
       "    <tr>\n",
       "      <th>Tue</th>\n",
       "      <td>3</td>\n",
       "      <td>3</td>\n",
       "      <td>7</td>\n",
       "      <td>138</td>\n",
       "    </tr>\n",
       "    <tr>\n",
       "      <th>Wed</th>\n",
       "      <td>9</td>\n",
       "      <td>19</td>\n",
       "      <td>18</td>\n",
       "      <td>458</td>\n",
       "    </tr>\n",
       "    <tr>\n",
       "      <th>Thurs</th>\n",
       "      <td>4</td>\n",
       "      <td>6</td>\n",
       "      <td>12</td>\n",
       "      <td>232</td>\n",
       "    </tr>\n",
       "    <tr>\n",
       "      <th>Fri</th>\n",
       "      <td>1</td>\n",
       "      <td>6</td>\n",
       "      <td>7</td>\n",
       "      <td>142</td>\n",
       "    </tr>\n",
       "  </tbody>\n",
       "</table>\n",
       "</div>"
      ],
      "text/plain": [
       "       Almond Butter  Peanut butter  Cashew Butter  Total ($)\n",
       "Mon               12             15              0        240\n",
       "Tue                3              3              7        138\n",
       "Wed                9             19             18        458\n",
       "Thurs              4              6             12        232\n",
       "Fri                1              6              7        142"
      ]
     },
     "execution_count": 67,
     "metadata": {},
     "output_type": "execute_result"
    }
   ],
   "source": [
    "# add column \n",
    "weekly_sales['Total ($)'] = daily_sales.T\n",
    "weekly_sales"
   ]
  },
  {
   "cell_type": "code",
   "execution_count": 74,
   "id": "e7fbc8a2-9772-48df-bc12-014dde3904e0",
   "metadata": {},
   "outputs": [
    {
     "data": {
      "text/html": [
       "<div>\n",
       "<style scoped>\n",
       "    .dataframe tbody tr th:only-of-type {\n",
       "        vertical-align: middle;\n",
       "    }\n",
       "\n",
       "    .dataframe tbody tr th {\n",
       "        vertical-align: top;\n",
       "    }\n",
       "\n",
       "    .dataframe thead th {\n",
       "        text-align: right;\n",
       "    }\n",
       "</style>\n",
       "<table border=\"1\" class=\"dataframe\">\n",
       "  <thead>\n",
       "    <tr style=\"text-align: right;\">\n",
       "      <th></th>\n",
       "      <th>Cheese burger</th>\n",
       "      <th>Normal burger</th>\n",
       "      <th>Veggie burger</th>\n",
       "      <th>Jalapeno burger</th>\n",
       "      <th>Jalapeno burger w/ cheese</th>\n",
       "    </tr>\n",
       "  </thead>\n",
       "  <tbody>\n",
       "    <tr>\n",
       "      <th>Mon</th>\n",
       "      <td>8</td>\n",
       "      <td>3</td>\n",
       "      <td>8</td>\n",
       "      <td>2</td>\n",
       "      <td>8</td>\n",
       "    </tr>\n",
       "    <tr>\n",
       "      <th>Tue</th>\n",
       "      <td>4</td>\n",
       "      <td>3</td>\n",
       "      <td>0</td>\n",
       "      <td>4</td>\n",
       "      <td>3</td>\n",
       "    </tr>\n",
       "    <tr>\n",
       "      <th>Wed</th>\n",
       "      <td>6</td>\n",
       "      <td>9</td>\n",
       "      <td>8</td>\n",
       "      <td>0</td>\n",
       "      <td>8</td>\n",
       "    </tr>\n",
       "    <tr>\n",
       "      <th>Thur</th>\n",
       "      <td>5</td>\n",
       "      <td>9</td>\n",
       "      <td>0</td>\n",
       "      <td>9</td>\n",
       "      <td>6</td>\n",
       "    </tr>\n",
       "    <tr>\n",
       "      <th>Fri</th>\n",
       "      <td>5</td>\n",
       "      <td>3</td>\n",
       "      <td>1</td>\n",
       "      <td>8</td>\n",
       "      <td>0</td>\n",
       "    </tr>\n",
       "  </tbody>\n",
       "</table>\n",
       "</div>"
      ],
      "text/plain": [
       "      Cheese burger  Normal burger  Veggie burger  Jalapeno burger  \\\n",
       "Mon               8              3              8                2   \n",
       "Tue               4              3              0                4   \n",
       "Wed               6              9              8                0   \n",
       "Thur              5              9              0                9   \n",
       "Fri               5              3              1                8   \n",
       "\n",
       "      Jalapeno burger w/ cheese  \n",
       "Mon                           8  \n",
       "Tue                           3  \n",
       "Wed                           8  \n",
       "Thur                          6  \n",
       "Fri                           0  "
      ]
     },
     "execution_count": 74,
     "metadata": {},
     "output_type": "execute_result"
    }
   ],
   "source": [
    "# Practice \n",
    "sales_amount_sandwhiches = np.random.randint(10, size=(5,5))\n",
    "weekly_sales_sandwhiches = pd.DataFrame(sales_amount_sandwhiches,\n",
    "                                       index=['Mon', 'Tue', 'Wed', 'Thur', 'Fri'],\n",
    "                                       columns=['Cheese burger', 'Normal burger', 'Veggie burger', 'Jalapeno burger', 'Jalapeno burger w/ cheese'])\n",
    "\n",
    "prices_sandwhiches = np.array([5, 3, 8, 6, 7])\n",
    "prices_sandwhiches_dataFrame = pd.DataFrame(prices_sandwhiches.reshape(1,5), \n",
    "                                            index=['Price'],\n",
    "                                            columns=['Cheese burger', 'Normal burger', 'Veggie burger', 'Jalapeno burger', 'Jalapeno burger w/ cheese'])\n",
    "\n",
    "weekly_sales_sandwhiches"
   ]
  },
  {
   "cell_type": "code",
   "execution_count": 75,
   "id": "8a81a3ca-5315-4745-a861-a2e649a801d7",
   "metadata": {},
   "outputs": [
    {
     "data": {
      "text/html": [
       "<div>\n",
       "<style scoped>\n",
       "    .dataframe tbody tr th:only-of-type {\n",
       "        vertical-align: middle;\n",
       "    }\n",
       "\n",
       "    .dataframe tbody tr th {\n",
       "        vertical-align: top;\n",
       "    }\n",
       "\n",
       "    .dataframe thead th {\n",
       "        text-align: right;\n",
       "    }\n",
       "</style>\n",
       "<table border=\"1\" class=\"dataframe\">\n",
       "  <thead>\n",
       "    <tr style=\"text-align: right;\">\n",
       "      <th></th>\n",
       "      <th>Cheese burger</th>\n",
       "      <th>Normal burger</th>\n",
       "      <th>Veggie burger</th>\n",
       "      <th>Jalapeno burger</th>\n",
       "      <th>Jalapeno burger w/ cheese</th>\n",
       "    </tr>\n",
       "  </thead>\n",
       "  <tbody>\n",
       "    <tr>\n",
       "      <th>Price</th>\n",
       "      <td>5</td>\n",
       "      <td>3</td>\n",
       "      <td>8</td>\n",
       "      <td>6</td>\n",
       "      <td>7</td>\n",
       "    </tr>\n",
       "  </tbody>\n",
       "</table>\n",
       "</div>"
      ],
      "text/plain": [
       "       Cheese burger  Normal burger  Veggie burger  Jalapeno burger  \\\n",
       "Price              5              3              8                6   \n",
       "\n",
       "       Jalapeno burger w/ cheese  \n",
       "Price                          7  "
      ]
     },
     "execution_count": 75,
     "metadata": {},
     "output_type": "execute_result"
    }
   ],
   "source": [
    "prices_sandwhiches_dataFrame"
   ]
  },
  {
   "cell_type": "code",
   "execution_count": 76,
   "id": "e654cf46-d2d4-491b-8588-bc606811965b",
   "metadata": {},
   "outputs": [
    {
     "data": {
      "text/plain": [
       "Mon     181\n",
       "Tue      74\n",
       "Wed     177\n",
       "Thur    148\n",
       "Fri      90\n",
       "dtype: int32"
      ]
     },
     "execution_count": 76,
     "metadata": {},
     "output_type": "execute_result"
    }
   ],
   "source": [
    "total_sales_sandwhiches = weekly_sales_sandwhiches.dot(prices_sandwhiches)\n",
    "total_sales_sandwhiches"
   ]
  },
  {
   "cell_type": "code",
   "execution_count": 77,
   "id": "975bb47a-2b33-41d2-b8e1-b36da640d117",
   "metadata": {},
   "outputs": [
    {
     "data": {
      "text/html": [
       "<div>\n",
       "<style scoped>\n",
       "    .dataframe tbody tr th:only-of-type {\n",
       "        vertical-align: middle;\n",
       "    }\n",
       "\n",
       "    .dataframe tbody tr th {\n",
       "        vertical-align: top;\n",
       "    }\n",
       "\n",
       "    .dataframe thead th {\n",
       "        text-align: right;\n",
       "    }\n",
       "</style>\n",
       "<table border=\"1\" class=\"dataframe\">\n",
       "  <thead>\n",
       "    <tr style=\"text-align: right;\">\n",
       "      <th></th>\n",
       "      <th>Cheese burger</th>\n",
       "      <th>Normal burger</th>\n",
       "      <th>Veggie burger</th>\n",
       "      <th>Jalapeno burger</th>\n",
       "      <th>Jalapeno burger w/ cheese</th>\n",
       "      <th>Total ($)</th>\n",
       "    </tr>\n",
       "  </thead>\n",
       "  <tbody>\n",
       "    <tr>\n",
       "      <th>Mon</th>\n",
       "      <td>8</td>\n",
       "      <td>3</td>\n",
       "      <td>8</td>\n",
       "      <td>2</td>\n",
       "      <td>8</td>\n",
       "      <td>181</td>\n",
       "    </tr>\n",
       "    <tr>\n",
       "      <th>Tue</th>\n",
       "      <td>4</td>\n",
       "      <td>3</td>\n",
       "      <td>0</td>\n",
       "      <td>4</td>\n",
       "      <td>3</td>\n",
       "      <td>74</td>\n",
       "    </tr>\n",
       "    <tr>\n",
       "      <th>Wed</th>\n",
       "      <td>6</td>\n",
       "      <td>9</td>\n",
       "      <td>8</td>\n",
       "      <td>0</td>\n",
       "      <td>8</td>\n",
       "      <td>177</td>\n",
       "    </tr>\n",
       "    <tr>\n",
       "      <th>Thur</th>\n",
       "      <td>5</td>\n",
       "      <td>9</td>\n",
       "      <td>0</td>\n",
       "      <td>9</td>\n",
       "      <td>6</td>\n",
       "      <td>148</td>\n",
       "    </tr>\n",
       "    <tr>\n",
       "      <th>Fri</th>\n",
       "      <td>5</td>\n",
       "      <td>3</td>\n",
       "      <td>1</td>\n",
       "      <td>8</td>\n",
       "      <td>0</td>\n",
       "      <td>90</td>\n",
       "    </tr>\n",
       "  </tbody>\n",
       "</table>\n",
       "</div>"
      ],
      "text/plain": [
       "      Cheese burger  Normal burger  Veggie burger  Jalapeno burger  \\\n",
       "Mon               8              3              8                2   \n",
       "Tue               4              3              0                4   \n",
       "Wed               6              9              8                0   \n",
       "Thur              5              9              0                9   \n",
       "Fri               5              3              1                8   \n",
       "\n",
       "      Jalapeno burger w/ cheese  Total ($)  \n",
       "Mon                           8        181  \n",
       "Tue                           3         74  \n",
       "Wed                           8        177  \n",
       "Thur                          6        148  \n",
       "Fri                           0         90  "
      ]
     },
     "execution_count": 77,
     "metadata": {},
     "output_type": "execute_result"
    }
   ],
   "source": [
    "weekly_sales_sandwhiches['Total ($)'] = total_sales_sandwhiches\n",
    "weekly_sales_sandwhiches"
   ]
  },
  {
   "cell_type": "markdown",
   "id": "8070d1e7-553c-4f30-9a01-27e6fa940d69",
   "metadata": {},
   "source": [
    "### Comparison operators "
   ]
  },
  {
   "cell_type": "code",
   "execution_count": 82,
   "id": "222abd84-34fb-4744-a73a-0e26cc17e43a",
   "metadata": {},
   "outputs": [
    {
     "name": "stdout",
     "output_type": "stream",
     "text": [
      "a1 = \n",
      "[1 2 3]\n",
      "a2 = \n",
      "[[1.  2.  3.3]\n",
      " [4.  5.  6.5]]\n",
      "a1 > a2 = \n",
      "[[False False False]\n",
      " [False False False]]\n",
      "a1 >= a2 \n",
      "[[ True  True False]\n",
      " [False False False]]\n",
      "bool_array = \n",
      "[[ True  True False]\n",
      " [False False False]]\n",
      "type(bool_array) = <class 'numpy.ndarray'>\n",
      "a1 > 5 = \n",
      "[False False False]\n",
      "a1 < 5 = \n",
      "[ True  True  True]\n",
      "a1 == a1 = \n",
      "[ True  True  True]\n",
      "a1 == a2\n",
      "[[ True  True False]\n",
      " [False False False]]\n"
     ]
    }
   ],
   "source": [
    "print(f'a1 = \\n{a1}')\n",
    "print(f'a2 = \\n{a2}')\n",
    "print(f'a1 > a2 = \\n{a1 > a2}')\n",
    "print(f'a1 >= a2 \\n{a1 >= a2}')\n",
    "bool_array = a1 >= a2\n",
    "print(f'bool_array = \\n{bool_array}')\n",
    "print(f'type(bool_array) = {type(bool_array)}')\n",
    "print(f'a1 > 5 = \\n{a1 > 5}')\n",
    "print(f'a1 < 5 = \\n{a1 < 5}')\n",
    "print(f'a1 == a1 = \\n{a1 == a1}')\n",
    "print(f'a1 == a2\\n{a1 == a2}')"
   ]
  },
  {
   "cell_type": "markdown",
   "id": "e59b1cb7-e5fb-436f-929d-1386dc4820d9",
   "metadata": {},
   "source": [
    "### Sorting arrays"
   ]
  },
  {
   "cell_type": "code",
   "execution_count": 89,
   "id": "505fd96c-ef26-4d67-9939-d6634fc3fe69",
   "metadata": {},
   "outputs": [
    {
     "name": "stdout",
     "output_type": "stream",
     "text": [
      "random_array5 = \n",
      "[[2 5 7 7 6]\n",
      " [1 6 7 2 3]\n",
      " [1 9 5 9 9]]\n",
      "\n",
      "random_array5.shape = (3, 5)\n",
      "\n",
      "np.sort(random_array5) = \n",
      "[[2 5 6 7 7]\n",
      " [1 2 3 6 7]\n",
      " [1 5 9 9 9]]\n",
      "\n",
      "Sort by highest index\n",
      "np.argsort(random_array5) = \n",
      "[[0 1 4 2 3]\n",
      " [0 3 4 1 2]\n",
      " [0 2 1 3 4]]\n",
      "np.argmin(random_array5) = \n",
      "5\n",
      "np.argmax(random_array5, axis=0) = \n",
      "[0 2 0 2 2]\n",
      "np.argmax(random_array5, axis=1 = \n",
      "[2 2 1]\n"
     ]
    }
   ],
   "source": [
    "random_array5 = np.random.randint(10, size=(3,5))\n",
    "print(f'random_array5 = \\n{random_array5}\\n')\n",
    "print(f'random_array5.shape = {random_array5.shape}\\n')\n",
    "print(f'np.sort(random_array5) = \\n{np.sort(random_array5)}\\n')\n",
    "print(f'Sort by highest index\\nnp.argsort(random_array5) = \\n{np.argsort(random_array5)}')\n",
    "print(f'np.argmin(random_array5) = \\n{np.argmin(random_array5)}')\n",
    "\n",
    "# This finds the max using index starting from the top of the column here\n",
    "print(f'np.argmax(random_array5, axis=0) = \\n{np.argmax(random_array5, axis=0)}')  \n",
    "print(f'np.argmax(random_array5, axis=1 = \\n{np.argmax(random_array5, axis=1)}')"
   ]
  },
  {
   "cell_type": "markdown",
   "id": "c73c9c21-6490-44e1-9666-6291c9a0e5ba",
   "metadata": {},
   "source": [
    "### Practice "
   ]
  },
  {
   "cell_type": "code",
   "execution_count": 96,
   "id": "e019aa4e-4e91-4e9c-a169-dc8e6e306415",
   "metadata": {},
   "outputs": [
    {
     "name": "stdout",
     "output_type": "stream",
     "text": [
      "random_array6 = \n",
      "[[6 1 1 4 2]\n",
      " [7 7 8 9 9]\n",
      " [8 1 9 7 9]\n",
      " [9 4 7 2 8]\n",
      " [5 3 1 9 3]]\n",
      "random_array7 = \n",
      "[[8 9 5 5 2 8]\n",
      " [7 5 2 6 8 2]\n",
      " [4 6 8 4 7 7]\n",
      " [8 2 7 1 4 9]\n",
      " [5 2 5 6 1 4]]\n",
      "random_array7.T * random_array6 = \n",
      "[[226 108 161 184 194]\n",
      " [165  64 119 145 139]\n",
      " [196  70 147 153 171]\n",
      " [143  73 102 158 126]\n",
      " [165  84 158 146 174]\n",
      " [219  77 154 153 181]]\n"
     ]
    }
   ],
   "source": [
    "random_array6 = np.random.randint(1, 10, size=(5,5))\n",
    "random_array7 = np.random.randint(1, 10, size=(5,6))\n",
    "print(f'random_array6 = \\n{random_array6}')\n",
    "print(f'random_array7 = \\n{random_array7}')\n",
    "print(f'random_array7.T * random_array6 = \\n{random_array7.T.dot(random_array6)}')"
   ]
  },
  {
   "cell_type": "code",
   "execution_count": null,
   "id": "980be22e-3730-4cf6-86f0-b2d1628fbead",
   "metadata": {},
   "outputs": [],
   "source": []
  }
 ],
 "metadata": {
  "kernelspec": {
   "display_name": "Python 3 (ipykernel)",
   "language": "python",
   "name": "python3"
  },
  "language_info": {
   "codemirror_mode": {
    "name": "ipython",
    "version": 3
   },
   "file_extension": ".py",
   "mimetype": "text/x-python",
   "name": "python",
   "nbconvert_exporter": "python",
   "pygments_lexer": "ipython3",
   "version": "3.12.5"
  }
 },
 "nbformat": 4,
 "nbformat_minor": 5
}

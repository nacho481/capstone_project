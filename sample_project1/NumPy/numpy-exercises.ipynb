{
 "cells": [
  {
   "cell_type": "markdown",
   "metadata": {},
   "source": [
    "# NumPy Practice\n",
    "\n",
    "This notebook offers a set of exercises for different tasks with NumPy.\n",
    "\n",
    "It should be noted there may be more than one different way to answer a question or complete an exercise.\n",
    "\n",
    "Exercises are based off (and directly taken from) the quick introduction to NumPy notebook.\n",
    "\n",
    "Different tasks will be detailed by comments or text.\n",
    "\n",
    "For further reference and resources, it's advised to check out the [NumPy documentation](https://numpy.org/devdocs/user/index.html).\n",
    "\n",
    "And if you get stuck, try searching for a question in the following format: \"how to do XYZ with numpy\", where XYZ is the function you want to leverage from NumPy."
   ]
  },
  {
   "cell_type": "code",
   "execution_count": 1,
   "metadata": {},
   "outputs": [],
   "source": [
    "# Import NumPy as its abbreviation 'np'\n",
    "import numpy as np"
   ]
  },
  {
   "cell_type": "code",
   "execution_count": 7,
   "metadata": {},
   "outputs": [
    {
     "name": "stdout",
     "output_type": "stream",
     "text": [
      "m_array1 = [1 2 3]\n",
      "\n",
      "m_array2 = \n",
      "[[1 2 3]\n",
      " [4 5 6]]\n",
      "\n",
      "m_array3 = \n",
      "[[[ 1  2  3]\n",
      "  [ 4  5  6]\n",
      "  [ 7  8  9]]\n",
      "\n",
      " [[10 11 12]\n",
      "  [13 14 15]\n",
      "  [16 17 18]]]\n"
     ]
    }
   ],
   "source": [
    "# Create a 1-dimensional NumPy array using np.array()\n",
    "m_array1 = np.array([1, 2, 3])\n",
    "print(f'm_array1 = {m_array1}\\n')\n",
    "\n",
    "# Create a 2-dimensional NumPy array using np.array()\n",
    "m_array2 = np.array([[1, 2, 3],\n",
    "                   [4, 5, 6]])\n",
    "print(f'm_array2 = \\n{m_array2}\\n')\n",
    "\n",
    "\n",
    "# Create a 3-dimensional Numpy array using np.array()\n",
    "m_array3 = np.array([[[1, 2, 3],\n",
    "                      [4, 5, 6],\n",
    "               [7, 8, 9]],\n",
    "                [[10, 11, 12],\n",
    "               [13, 14, 15],\n",
    "                [16, 17, 18]]])\n",
    "print(f'm_array3 = \\n{m_array3}')"
   ]
  },
  {
   "cell_type": "markdown",
   "metadata": {},
   "source": [
    "Now we've you've created 3 different arrays, let's find details about them.\n",
    "\n",
    "Find the shape, number of dimensions, data type, size and type of each array."
   ]
  },
  {
   "cell_type": "code",
   "execution_count": 10,
   "metadata": {},
   "outputs": [
    {
     "name": "stdout",
     "output_type": "stream",
     "text": [
      "1-dimensional array attributes\n",
      "\n",
      "m_array1 shape = (3,)\n",
      "m_array1 data type = int32\n",
      "m_array1 size = 3\n",
      "m_array1 type = <class 'numpy.ndarray'>\n"
     ]
    }
   ],
   "source": [
    "# Attributes of 1-dimensional array (shape, \n",
    "# number of dimensions, data type, size and type)\n",
    "print('1-dimensional array attributes\\n')\n",
    "print(f'm_array1 shape = {m_array1.shape}')\n",
    "print(f'm_array1 data type = {m_array1.dtype}')\n",
    "print(f'm_array1 size = {m_array1.size}')\n",
    "print(f'm_array1 type = {type(m_array1)}')"
   ]
  },
  {
   "cell_type": "code",
   "execution_count": 12,
   "metadata": {},
   "outputs": [
    {
     "name": "stdout",
     "output_type": "stream",
     "text": [
      "2-dimensional array attributes\n",
      "\n",
      "m_array2 shape = (2, 3)\n",
      "m_array2 data type = int32\n",
      "m_array2 size = 6\n",
      "m_array2 type = <class 'numpy.ndarray'>\n"
     ]
    }
   ],
   "source": [
    "# Attributes of 2-dimensional array\n",
    "print('2-dimensional array attributes\\n')\n",
    "print(f'm_array2 shape = {m_array2.shape}')\n",
    "print(f'm_array2 data type = {m_array2.dtype}')\n",
    "print(f'm_array2 size = {m_array2.size}')\n",
    "print(f'm_array2 type = {type(m_array2)}')"
   ]
  },
  {
   "cell_type": "code",
   "execution_count": 13,
   "metadata": {},
   "outputs": [
    {
     "name": "stdout",
     "output_type": "stream",
     "text": [
      "3-dimensional array attributes\n",
      "\n",
      "m_array3 shape = (2, 3, 3)\n",
      "m_array3 data type = int32\n",
      "m_array3 size = 18\n",
      "m_array3 type = <class 'numpy.ndarray'>\n"
     ]
    }
   ],
   "source": [
    "# Attributes of 3-dimensional array\n",
    "\n",
    "print('3-dimensional array attributes\\n')\n",
    "print(f'm_array3 shape = {m_array3.shape}')\n",
    "print(f'm_array3 data type = {m_array3.dtype}')\n",
    "print(f'm_array3 size = {m_array3.size}')\n",
    "print(f'm_array3 type = {type(m_array3)}')"
   ]
  },
  {
   "cell_type": "code",
   "execution_count": 14,
   "metadata": {},
   "outputs": [],
   "source": [
    "# Import pandas and create a DataFrame out of one\n",
    "# of the arrays you've created\n",
    "import pandas as pd\n",
    "df = pd.DataFrame(m_array1)"
   ]
  },
  {
   "cell_type": "code",
   "execution_count": 17,
   "metadata": {},
   "outputs": [
    {
     "name": "stdout",
     "output_type": "stream",
     "text": [
      "m_ones = [[1. 1.]\n",
      " [1. 1.]\n",
      " [1. 1.]\n",
      " [1. 1.]\n",
      " [1. 1.]\n",
      " [1. 1.]\n",
      " [1. 1.]\n",
      " [1. 1.]\n",
      " [1. 1.]\n",
      " [1. 1.]]\n"
     ]
    }
   ],
   "source": [
    "# Create an array of shape (10, 2) with only ones\n",
    "m_ones = np.ones((10, 2))\n",
    "print(f'm_ones = {m_ones}')"
   ]
  },
  {
   "cell_type": "code",
   "execution_count": 18,
   "metadata": {},
   "outputs": [
    {
     "name": "stdout",
     "output_type": "stream",
     "text": [
      "m_zeros = \n",
      "[[[0. 0. 0.]\n",
      "  [0. 0. 0.]]\n",
      "\n",
      " [[0. 0. 0.]\n",
      "  [0. 0. 0.]]\n",
      "\n",
      " [[0. 0. 0.]\n",
      "  [0. 0. 0.]]\n",
      "\n",
      " [[0. 0. 0.]\n",
      "  [0. 0. 0.]]\n",
      "\n",
      " [[0. 0. 0.]\n",
      "  [0. 0. 0.]]\n",
      "\n",
      " [[0. 0. 0.]\n",
      "  [0. 0. 0.]]\n",
      "\n",
      " [[0. 0. 0.]\n",
      "  [0. 0. 0.]]]\n"
     ]
    }
   ],
   "source": [
    "# Create an array of shape (7, 2, 3) of only zeros\n",
    "m_zeros = np.zeros((7, 2, 3))\n",
    "print(f'm_zeros = \\n{m_zeros}')"
   ]
  },
  {
   "cell_type": "code",
   "execution_count": 19,
   "metadata": {},
   "outputs": [
    {
     "name": "stdout",
     "output_type": "stream",
     "text": [
      "m_range_array = \n",
      "[ 0  3  6  9 12 15 18 21 24 27 30 33 36 39 42 45 48 51 54 57 60 63 66 69\n",
      " 72 75 78 81 84 87 90 93 96 99]\n"
     ]
    }
   ],
   "source": [
    "# Create an array within a range of 0 and 100 with step 3\n",
    "m_range_array = np.arange(0, 100, 3)\n",
    "print(f'm_range_array = \\n{m_range_array}')"
   ]
  },
  {
   "cell_type": "code",
   "execution_count": 23,
   "metadata": {},
   "outputs": [
    {
     "name": "stdout",
     "output_type": "stream",
     "text": [
      "m_random_arr = \n",
      "[[9 7]\n",
      " [0 0]\n",
      " [0 8]\n",
      " [6 7]\n",
      " [6 4]\n",
      " [2 5]\n",
      " [1 4]]\n"
     ]
    }
   ],
   "source": [
    "# Create a random array with numbers between 0 and 10 of size (7, 2)\n",
    "m_random_arr = np.random.randint(10, size=(7,2))\n",
    "print(f'm_random_arr = \\n{m_random_arr}')"
   ]
  },
  {
   "cell_type": "code",
   "execution_count": 25,
   "metadata": {},
   "outputs": [
    {
     "name": "stdout",
     "output_type": "stream",
     "text": [
      "m_random_arr_float = \n",
      "[[0.53305865 0.1456     0.30284378 0.64216834 0.06598727]\n",
      " [0.53432009 0.08444395 0.85731922 0.25694159 0.33470625]\n",
      " [0.94548327 0.15448115 0.66042997 0.66562182 0.3817532 ]]\n"
     ]
    }
   ],
   "source": [
    "# Create a random array of floats between 0 & 1 of shape (3, 5)\n",
    "m_random_arr_float = np.random.random((3, 5))\n",
    "print(f'm_random_arr_float = \\n{m_random_arr_float}')"
   ]
  },
  {
   "cell_type": "code",
   "execution_count": 31,
   "metadata": {},
   "outputs": [
    {
     "name": "stdout",
     "output_type": "stream",
     "text": [
      "m_random_arr2 = \n",
      "[[6 3 7 4 6 9]\n",
      " [2 6 7 4 3 7]\n",
      " [7 2 5 4 1 7]\n",
      " [5 1 4 0 9 5]]\n"
     ]
    }
   ],
   "source": [
    "# Set the random seed to 42\n",
    "np.random.seed(seed=42)\n",
    "\n",
    "# Create a random array of numbers between 0 & 10 of size (4, 6)\n",
    "m_random_arr2 = np.random.randint(10, size=(4,6))\n",
    "print(f'm_random_arr2 = \\n{m_random_arr2}')"
   ]
  },
  {
   "cell_type": "markdown",
   "metadata": {},
   "source": [
    "Run the cell above again, what happens?\n",
    "\n",
    "Are the numbers in the array different or the same? Why do think this is?"
   ]
  },
  {
   "cell_type": "code",
   "execution_count": 29,
   "metadata": {},
   "outputs": [
    {
     "name": "stdout",
     "output_type": "stream",
     "text": [
      "m_random_arr3 = \n",
      "[[4 1 3 6 7 2 0]\n",
      " [3 1 7 3 1 5 5]\n",
      " [9 3 5 1 9 1 9]]\n",
      "m_random_arr3 unique = \n",
      "[0 1 2 3 4 5 6 7 9]\n"
     ]
    }
   ],
   "source": [
    "# Create an array of random numbers between 1 & 10 of size (3, 7)\n",
    "# and save it to a variable\n",
    "m_random_arr3 = np.random.randint(11, size=(3,7))\n",
    "\n",
    "# Find the unique numbers in the array you just created\n",
    "print(f'm_random_arr3 = \\n{m_random_arr3}')\n",
    "print(f'm_random_arr3 unique = \\n{np.unique(m_random_arr2)}')"
   ]
  },
  {
   "cell_type": "code",
   "execution_count": 33,
   "metadata": {},
   "outputs": [
    {
     "data": {
      "text/plain": [
       "array([4, 1, 3, 6, 7, 2, 0])"
      ]
     },
     "execution_count": 33,
     "metadata": {},
     "output_type": "execute_result"
    }
   ],
   "source": [
    "# Find the 0'th index of the latest array you created\n",
    "m_random_arr3[0]"
   ]
  },
  {
   "cell_type": "code",
   "execution_count": 34,
   "metadata": {},
   "outputs": [
    {
     "data": {
      "text/plain": [
       "array([[4, 1, 3, 6, 7, 2, 0],\n",
       "       [3, 1, 7, 3, 1, 5, 5]])"
      ]
     },
     "execution_count": 34,
     "metadata": {},
     "output_type": "execute_result"
    }
   ],
   "source": [
    "# Get the first 2 rows of latest array you created\n",
    "m_random_arr3[:2]"
   ]
  },
  {
   "cell_type": "code",
   "execution_count": 37,
   "metadata": {},
   "outputs": [
    {
     "name": "stdout",
     "output_type": "stream",
     "text": [
      "m_random_arr3 = \n",
      "[[4 1 3 6 7 2 0]\n",
      " [3 1 7 3 1 5 5]\n",
      " [9 3 5 1 9 1 9]]\n",
      "first 2 valuse of the first 2 rows = \n",
      "[[4 1]\n",
      " [3 1]]\n"
     ]
    }
   ],
   "source": [
    "# Get the first 2 values of the first 2 rows of the latest array\n",
    "print(f'm_random_arr3 = \\n{m_random_arr3}')\n",
    "print(f'first 2 valuse of the first 2 rows = \\n{m_random_arr3[:2, :2]}')"
   ]
  },
  {
   "cell_type": "code",
   "execution_count": 39,
   "metadata": {},
   "outputs": [
    {
     "name": "stdout",
     "output_type": "stream",
     "text": [
      "m_random_arr4 = \n",
      "[[0 9 2 6 3]\n",
      " [8 2 4 2 6]\n",
      " [4 8 6 1 3]]\n",
      "m_ones_v2 = \n",
      "[[1. 1. 1. 1. 1.]\n",
      " [1. 1. 1. 1. 1.]\n",
      " [1. 1. 1. 1. 1.]]\n"
     ]
    }
   ],
   "source": [
    "# Create a random array of numbers between 0 & 10 and an array of ones\n",
    "# both of size (3, 5), save them both to variables\n",
    "m_random_arr4 = np.random.randint(10, size=(3,5))\n",
    "m_ones_v2 = np.ones((3,5))\n",
    "print(f'm_random_arr4 = \\n{m_random_arr4}')\n",
    "print(f'm_ones_v2 = \\n{m_ones_v2}')"
   ]
  },
  {
   "cell_type": "code",
   "execution_count": 40,
   "metadata": {},
   "outputs": [
    {
     "data": {
      "text/plain": [
       "array([[ 1., 10.,  3.,  7.,  4.],\n",
       "       [ 9.,  3.,  5.,  3.,  7.],\n",
       "       [ 5.,  9.,  7.,  2.,  4.]])"
      ]
     },
     "execution_count": 40,
     "metadata": {},
     "output_type": "execute_result"
    }
   ],
   "source": [
    "# Add the two arrays together\n",
    "m_random_arr4 + m_ones_v2 "
   ]
  },
  {
   "cell_type": "code",
   "execution_count": 42,
   "metadata": {},
   "outputs": [
    {
     "data": {
      "text/plain": [
       "array([[1., 1., 1.],\n",
       "       [1., 1., 1.],\n",
       "       [1., 1., 1.],\n",
       "       [1., 1., 1.],\n",
       "       [1., 1., 1.]])"
      ]
     },
     "execution_count": 42,
     "metadata": {},
     "output_type": "execute_result"
    }
   ],
   "source": [
    "# Create another array of ones of shape (5, 3)\n",
    "m_ones_v3 = np.ones((5,3))\n",
    "m_ones_v3"
   ]
  },
  {
   "cell_type": "code",
   "execution_count": 43,
   "metadata": {},
   "outputs": [
    {
     "ename": "ValueError",
     "evalue": "operands could not be broadcast together with shapes (5,3) (3,5) ",
     "output_type": "error",
     "traceback": [
      "\u001b[1;31m---------------------------------------------------------------------------\u001b[0m",
      "\u001b[1;31mValueError\u001b[0m                                Traceback (most recent call last)",
      "Cell \u001b[1;32mIn[43], line 2\u001b[0m\n\u001b[0;32m      1\u001b[0m \u001b[38;5;66;03m# Try add the array of ones and the other most recent array together\u001b[39;00m\n\u001b[1;32m----> 2\u001b[0m m_ones_v3 \u001b[38;5;241m+\u001b[39m m_ones_v2\n",
      "\u001b[1;31mValueError\u001b[0m: operands could not be broadcast together with shapes (5,3) (3,5) "
     ]
    }
   ],
   "source": [
    "# Try add the array of ones and the other most recent array together\n",
    "m_ones_v3 + m_ones_v2"
   ]
  },
  {
   "cell_type": "markdown",
   "metadata": {},
   "source": [
    "When you try the last cell, it produces an error. Why do think this is?\n",
    "\n",
    "How would you fix it?"
   ]
  },
  {
   "cell_type": "code",
   "execution_count": 44,
   "metadata": {},
   "outputs": [],
   "source": [
    "# Create another array of ones of shape (3, 5)\n",
    "m_ones_v4 = np.ones((3,5))"
   ]
  },
  {
   "cell_type": "code",
   "execution_count": 51,
   "metadata": {},
   "outputs": [
    {
     "data": {
      "text/plain": [
       "array([[-1.,  8.,  1.,  5.,  2.],\n",
       "       [ 7.,  1.,  3.,  1.,  5.],\n",
       "       [ 3.,  7.,  5.,  0.,  2.]])"
      ]
     },
     "execution_count": 51,
     "metadata": {},
     "output_type": "execute_result"
    }
   ],
   "source": [
    "# Subtract the new array of ones from the other most recent array\n",
    "m_random_arr4 - m_ones_v4"
   ]
  },
  {
   "cell_type": "code",
   "execution_count": 52,
   "metadata": {},
   "outputs": [
    {
     "data": {
      "text/plain": [
       "array([[0., 9., 2., 6., 3.],\n",
       "       [8., 2., 4., 2., 6.],\n",
       "       [4., 8., 6., 1., 3.]])"
      ]
     },
     "execution_count": 52,
     "metadata": {},
     "output_type": "execute_result"
    }
   ],
   "source": [
    "# Multiply the ones array with the latest array\n",
    "m_random_arr4 * m_ones_v4"
   ]
  },
  {
   "cell_type": "code",
   "execution_count": 53,
   "metadata": {},
   "outputs": [
    {
     "data": {
      "text/plain": [
       "array([[ 0, 81,  4, 36,  9],\n",
       "       [64,  4, 16,  4, 36],\n",
       "       [16, 64, 36,  1,  9]])"
      ]
     },
     "execution_count": 53,
     "metadata": {},
     "output_type": "execute_result"
    }
   ],
   "source": [
    "# Take the latest array to the power of 2 using '**'\n",
    "m_random_arr4 ** 2"
   ]
  },
  {
   "cell_type": "code",
   "execution_count": 54,
   "metadata": {},
   "outputs": [
    {
     "data": {
      "text/plain": [
       "array([[ 0, 81,  4, 36,  9],\n",
       "       [64,  4, 16,  4, 36],\n",
       "       [16, 64, 36,  1,  9]])"
      ]
     },
     "execution_count": 54,
     "metadata": {},
     "output_type": "execute_result"
    }
   ],
   "source": [
    "# Do the same thing with np.square()\n",
    "np.square(m_random_arr4)"
   ]
  },
  {
   "cell_type": "code",
   "execution_count": 58,
   "metadata": {},
   "outputs": [
    {
     "name": "stdout",
     "output_type": "stream",
     "text": [
      "np.mean(m_random_arr4) = 4.3\n"
     ]
    }
   ],
   "source": [
    "# Find the mean of the latest array using np.mean()\n",
    "print(f'np.mean(m_random_arr4) = {np.mean(m_random_arr4):,.2}')"
   ]
  },
  {
   "cell_type": "code",
   "execution_count": 60,
   "metadata": {},
   "outputs": [
    {
     "name": "stdout",
     "output_type": "stream",
     "text": [
      "np.max(m_random_arr4) = 9\n"
     ]
    }
   ],
   "source": [
    "# Find the maximum of the latest array using np.max()\n",
    "print(f'np.max(m_random_arr4) = {np.max(m_random_arr4):,}')"
   ]
  },
  {
   "cell_type": "code",
   "execution_count": 61,
   "metadata": {},
   "outputs": [
    {
     "name": "stdout",
     "output_type": "stream",
     "text": [
      "np.min(m_random_arr4) = 0\n"
     ]
    }
   ],
   "source": [
    "# Find the minimum of the latest array using np.min()\n",
    "print(f'np.min(m_random_arr4) = {np.min(m_random_arr4)}')"
   ]
  },
  {
   "cell_type": "code",
   "execution_count": 63,
   "metadata": {},
   "outputs": [
    {
     "name": "stdout",
     "output_type": "stream",
     "text": [
      "np.std(m_random_arr4) = 2.7\n"
     ]
    }
   ],
   "source": [
    "# Find the standard deviation of the latest array\n",
    "print(f'np.std(m_random_arr4) = {np.std(m_random_arr4):,.2}')"
   ]
  },
  {
   "cell_type": "code",
   "execution_count": 65,
   "metadata": {},
   "outputs": [
    {
     "name": "stdout",
     "output_type": "stream",
     "text": [
      "np.var(m_random_arr4) = 7.1\n"
     ]
    }
   ],
   "source": [
    "# Find the variance of the latest array\n",
    "print(f'np.var(m_random_arr4) = {np.var(m_random_arr4):,.2}')"
   ]
  },
  {
   "cell_type": "code",
   "execution_count": 67,
   "metadata": {},
   "outputs": [
    {
     "data": {
      "text/plain": [
       "array([[[0],\n",
       "        [9],\n",
       "        [2],\n",
       "        [6],\n",
       "        [3]],\n",
       "\n",
       "       [[8],\n",
       "        [2],\n",
       "        [4],\n",
       "        [2],\n",
       "        [6]],\n",
       "\n",
       "       [[4],\n",
       "        [8],\n",
       "        [6],\n",
       "        [1],\n",
       "        [3]]])"
      ]
     },
     "execution_count": 67,
     "metadata": {},
     "output_type": "execute_result"
    }
   ],
   "source": [
    "# Reshape the latest array to (3, 5, 1)\n",
    "m_random_arr4_modified = m_random_arr4.reshape(3, 5, 1)\n",
    "m_random_arr4_modified"
   ]
  },
  {
   "cell_type": "code",
   "execution_count": 68,
   "metadata": {},
   "outputs": [
    {
     "data": {
      "text/plain": [
       "array([[[0, 8, 4],\n",
       "        [9, 2, 8],\n",
       "        [2, 4, 6],\n",
       "        [6, 2, 1],\n",
       "        [3, 6, 3]]])"
      ]
     },
     "execution_count": 68,
     "metadata": {},
     "output_type": "execute_result"
    }
   ],
   "source": [
    "# Transpose the latest array\n",
    "m_random_arr4_modified.T"
   ]
  },
  {
   "cell_type": "markdown",
   "metadata": {},
   "source": [
    "What does the transpose do?\n",
    "\n",
    "**A:** The transpose operation, denoted by .T in NumPy, effectively flips the axes of an array. It's a way of restructuring the array so that rows become columns and vice versa. Let's break down what happened in your specific case:\n",
    "\n",
    "Original shape:\n",
    "1. Your m_random_arr4_modified had a shape of (3, 5, 1)\n",
    " - 3 \"layers\"\n",
    " - Each layer had 5 rows\n",
    " - Each row had 1 column\n",
    "2. After transpose: The resulting shape is (1, 5, 3)\n",
    "- Now there's 1 \"layer\"\n",
    "- It has 5 rows\n",
    "- Each row has 3 columns"
   ]
  },
  {
   "cell_type": "code",
   "execution_count": 73,
   "metadata": {},
   "outputs": [
    {
     "name": "stdout",
     "output_type": "stream",
     "text": [
      "m_random_arr5 = \n",
      "[[1 0]\n",
      " [6 6]\n",
      " [7 4]]\n",
      "m_random_arr6 = \n",
      "[[2 7 5]\n",
      " [2 0 2]\n",
      " [4 2 0]]\n"
     ]
    }
   ],
   "source": [
    "# Create two arrays of random integers between 0 to 10\n",
    "# one of size (3, 3) the other of size (3, 2)\n",
    "m_random_arr5 = np.random.randint(10, size=(3,2))\n",
    "m_random_arr6 = np.random.randint(10, size=(3,3))\n",
    "print(f'm_random_arr5 = \\n{m_random_arr5}')\n",
    "print(f'm_random_arr6 = \\n{m_random_arr6}')"
   ]
  },
  {
   "cell_type": "code",
   "execution_count": 77,
   "metadata": {},
   "outputs": [
    {
     "name": "stdout",
     "output_type": "stream",
     "text": [
      "m_random_arr6.dot(m_random_arr6)  = \n",
      "[[79 62]\n",
      " [16  8]\n",
      " [16 12]]\n"
     ]
    }
   ],
   "source": [
    "# Perform a dot product on the two newest arrays you created\n",
    "print(f'm_random_arr6.dot(m_random_arr6)  = \\n{m_random_arr6.dot(m_random_arr5)}')"
   ]
  },
  {
   "cell_type": "code",
   "execution_count": 79,
   "metadata": {},
   "outputs": [
    {
     "name": "stdout",
     "output_type": "stream",
     "text": [
      "m_random_arr7 = \n",
      "[[3 9 6]\n",
      " [8 6 0]\n",
      " [0 8 8]\n",
      " [3 8 2]]\n",
      "m_random_arr8 = \n",
      "[[6 5 7]\n",
      " [8 4 0]\n",
      " [2 9 7]\n",
      " [5 7 8]]\n"
     ]
    }
   ],
   "source": [
    "# Create two arrays of random integers between 0 to 10\n",
    "# both of size (4, 3)\n",
    "m_random_arr7 = np.random.randint(10, size=(4,3))\n",
    "m_random_arr8 = np.random.randint(10, size=(4,3))\n",
    "print(f'm_random_arr7 = \\n{m_random_arr7}')\n",
    "print(f'm_random_arr8 = \\n{m_random_arr8}')"
   ]
  },
  {
   "cell_type": "code",
   "execution_count": 80,
   "metadata": {},
   "outputs": [
    {
     "ename": "ValueError",
     "evalue": "shapes (4,3) and (4,3) not aligned: 3 (dim 1) != 4 (dim 0)",
     "output_type": "error",
     "traceback": [
      "\u001b[1;31m---------------------------------------------------------------------------\u001b[0m",
      "\u001b[1;31mValueError\u001b[0m                                Traceback (most recent call last)",
      "Cell \u001b[1;32mIn[80], line 2\u001b[0m\n\u001b[0;32m      1\u001b[0m \u001b[38;5;66;03m# Perform a dot product on the two newest arrays you created\u001b[39;00m\n\u001b[1;32m----> 2\u001b[0m \u001b[38;5;28mprint\u001b[39m(\u001b[38;5;124mf\u001b[39m\u001b[38;5;124m'\u001b[39m\u001b[38;5;124mm_random_arr7.dot(m_random_arr8) = \u001b[39m\u001b[38;5;130;01m\\n\u001b[39;00m\u001b[38;5;132;01m{\u001b[39;00mm_random_arr7\u001b[38;5;241m.\u001b[39mdot(m_random_arr8)\u001b[38;5;132;01m}\u001b[39;00m\u001b[38;5;124m'\u001b[39m)\n",
      "\u001b[1;31mValueError\u001b[0m: shapes (4,3) and (4,3) not aligned: 3 (dim 1) != 4 (dim 0)"
     ]
    }
   ],
   "source": [
    "# Perform a dot product on the two newest arrays you created\n",
    "print(f'm_random_arr7.dot(m_random_arr8) = \\n{m_random_arr7.dot(m_random_arr8)}')"
   ]
  },
  {
   "cell_type": "markdown",
   "metadata": {},
   "source": [
    "It doesn't work. How would you fix it?"
   ]
  },
  {
   "cell_type": "code",
   "execution_count": 81,
   "metadata": {},
   "outputs": [
    {
     "name": "stdout",
     "output_type": "stream",
     "text": [
      "m_random_arr7.dot(m_random_arr8) = \n",
      "[[105  60 129 126]\n",
      " [ 78  88  70  82]\n",
      " [ 96  32 128 120]\n",
      " [ 72  56  92  87]]\n"
     ]
    }
   ],
   "source": [
    "# Take the latest two arrays, perform a transpose on one of them and then perform \n",
    "# a dot product on them both\n",
    "print(f'm_random_arr7.dot(m_random_arr8) = \\n{m_random_arr7.dot(m_random_arr8.T)}')"
   ]
  },
  {
   "cell_type": "markdown",
   "metadata": {},
   "source": [
    "Notice how performing a transpose allows the dot product to happen.\n",
    "\n",
    "Why is this?\n",
    "\n",
    "Checking out the documentation on [`np.dot()`](https://docs.scipy.org/doc/numpy/reference/generated/numpy.dot.html) may help, as well as reading [Math is Fun's guide on the dot product](https://www.mathsisfun.com/algebra/vectors-dot-product.html).\n",
    "\n",
    "Let's now compare arrays."
   ]
  },
  {
   "cell_type": "code",
   "execution_count": 83,
   "metadata": {},
   "outputs": [],
   "source": [
    "# Create two arrays of random integers between 0 & 10 of the same shape\n",
    "# and save them to variables\n",
    "m_random_arr9 = np.random.randint(10, size=(3, 3))\n",
    "m_random_arr10 = np.random.randint(10, size=(3, 3))\n",
    "print(f'm_random_arr9 = \\n{m_random_arr9}')\n",
    "print(f'm_random_arr10 = \\n{m_random_arr9}')"
   ]
  },
  {
   "cell_type": "code",
   "execution_count": 39,
   "metadata": {},
   "outputs": [],
   "source": [
    "# Compare the two arrays with '>'\n"
   ]
  },
  {
   "cell_type": "markdown",
   "metadata": {},
   "source": [
    "What happens when you compare the arrays with `>`?"
   ]
  },
  {
   "cell_type": "code",
   "execution_count": 40,
   "metadata": {},
   "outputs": [],
   "source": [
    "# Compare the two arrays with '>='\n"
   ]
  },
  {
   "cell_type": "code",
   "execution_count": 41,
   "metadata": {},
   "outputs": [],
   "source": [
    "# Find which elements of the first array are greater than 7\n"
   ]
  },
  {
   "cell_type": "code",
   "execution_count": 42,
   "metadata": {},
   "outputs": [],
   "source": [
    "# Which parts of each array are equal? (try using '==')\n"
   ]
  },
  {
   "cell_type": "code",
   "execution_count": 43,
   "metadata": {},
   "outputs": [],
   "source": [
    "# Sort one of the arrays you just created in ascending order\n"
   ]
  },
  {
   "cell_type": "code",
   "execution_count": 44,
   "metadata": {},
   "outputs": [],
   "source": [
    "# Sort the indexes of one of the arrays you just created\n"
   ]
  },
  {
   "cell_type": "code",
   "execution_count": 45,
   "metadata": {},
   "outputs": [],
   "source": [
    "# Find the index with the maximum value in one of the arrays you've created\n"
   ]
  },
  {
   "cell_type": "code",
   "execution_count": 46,
   "metadata": {},
   "outputs": [],
   "source": [
    "# Find the index with the minimum value in one of the arrays you've created\n"
   ]
  },
  {
   "cell_type": "code",
   "execution_count": 47,
   "metadata": {},
   "outputs": [],
   "source": [
    "# Find the indexes with the maximum values down the 1st axis (axis=1)\n",
    "# of one of the arrays you created\n"
   ]
  },
  {
   "cell_type": "code",
   "execution_count": 48,
   "metadata": {},
   "outputs": [],
   "source": [
    "# Find the indexes with the minimum values across the 0th axis (axis=0)\n",
    "# of one of the arrays you created\n"
   ]
  },
  {
   "cell_type": "code",
   "execution_count": 49,
   "metadata": {},
   "outputs": [],
   "source": [
    "# Create an array of normally distributed random numbers\n"
   ]
  },
  {
   "cell_type": "code",
   "execution_count": 50,
   "metadata": {},
   "outputs": [],
   "source": [
    "# Create an array with 10 evenly spaced numbers between 1 and 100\n"
   ]
  },
  {
   "cell_type": "markdown",
   "metadata": {},
   "source": [
    "## Extensions\n",
    "\n",
    "For more exercises, check out the [NumPy quickstart tutorial](https://numpy.org/doc/stable/user/quickstart.html). A good practice would be to read through it and for the parts you find interesting, add them into the end of this notebook.\n",
    "\n",
    "Pay particular attention to the section on broadcasting. And most importantly, get hands-on with the code as much as possible. If in dobut, run the code, see what it does.\n",
    "\n",
    "The next place you could go is the [Stack Overflow page for the top questions and answers for NumPy](https://stackoverflow.com/questions/tagged/numpy?sort=MostVotes&edited=true). Often, you'll find some of the most common and useful NumPy functions here. Don't forget to play around with the filters! You'll likely find something helpful here.\n",
    "\n",
    "Finally, as always, remember, the best way to learn something new is to try it. And try it relentlessly. If you get interested in some kind of NumPy function, asking yourself, \"I wonder if NumPy could do that?\", go and find out."
   ]
  }
 ],
 "metadata": {
  "kernelspec": {
   "display_name": "Python 3 (ipykernel)",
   "language": "python",
   "name": "python3"
  },
  "language_info": {
   "codemirror_mode": {
    "name": "ipython",
    "version": 3
   },
   "file_extension": ".py",
   "mimetype": "text/x-python",
   "name": "python",
   "nbconvert_exporter": "python",
   "pygments_lexer": "ipython3",
   "version": "3.12.5"
  }
 },
 "nbformat": 4,
 "nbformat_minor": 4
}

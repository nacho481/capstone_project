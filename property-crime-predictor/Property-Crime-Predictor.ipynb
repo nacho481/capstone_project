{
 "cells": [
  {
   "cell_type": "code",
   "execution_count": 1,
   "id": "4765e79f-c537-4b9e-a417-8fe871b37db9",
   "metadata": {},
   "outputs": [],
   "source": [
    "# Import necessary libraries\n",
    "import pandas as pd\n",
    "import numpy as np\n",
    "import matplotlib.pyplot as plt\n",
    "import seaborn as sns\n",
    "from datetime import datetime"
   ]
  },
  {
   "cell_type": "code",
   "execution_count": 3,
   "id": "24b27a42-53c3-48a8-aae7-0b87964d2374",
   "metadata": {},
   "outputs": [],
   "source": [
    "# Set plotting style and figure size\n",
    "plt.style.use('seaborn-v0_8-darkgrid')  # or try 'seaborn-v0_8'\n",
    "plt.rcParams['figure.figsize'] = (12, 6)\n",
    "sns.set_theme()  # This is the newer way to set seaborn's default theme"
   ]
  },
  {
   "cell_type": "code",
   "execution_count": 4,
   "id": "5ad4f889-6d08-4bbb-8cb2-ad2a43853d8f",
   "metadata": {},
   "outputs": [],
   "source": [
    "# Read the data\n",
    "df = pd.read_csv('cleaned_combined_state_crime_rates_no_dupes.csv')"
   ]
  },
  {
   "cell_type": "code",
   "execution_count": null,
   "id": "4d3a1b5f-3094-4128-a5b0-113c94bbbe03",
   "metadata": {},
   "outputs": [],
   "source": []
  }
 ],
 "metadata": {
  "kernelspec": {
   "display_name": "Python 3 (ipykernel)",
   "language": "python",
   "name": "python3"
  },
  "language_info": {
   "codemirror_mode": {
    "name": "ipython",
    "version": 3
   },
   "file_extension": ".py",
   "mimetype": "text/x-python",
   "name": "python",
   "nbconvert_exporter": "python",
   "pygments_lexer": "ipython3",
   "version": "3.12.7"
  }
 },
 "nbformat": 4,
 "nbformat_minor": 5
}
